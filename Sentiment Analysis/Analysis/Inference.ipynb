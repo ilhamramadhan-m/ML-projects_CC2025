{
 "cells": [
  {
   "cell_type": "markdown",
   "id": "6bdf38ee",
   "metadata": {},
   "source": [
    "## **Import Library**"
   ]
  },
  {
   "cell_type": "code",
   "execution_count": 1,
   "id": "ca26c5c2",
   "metadata": {},
   "outputs": [],
   "source": [
    "import pickle\n",
    "import numpy as np\n",
    "from tensorflow.keras.models import load_model\n",
    "from tensorflow.keras.preprocessing.sequence import pad_sequences"
   ]
  },
  {
   "cell_type": "markdown",
   "id": "296b3ed7",
   "metadata": {},
   "source": [
    "## **Load Model**"
   ]
  },
  {
   "cell_type": "code",
   "execution_count": 2,
   "id": "8e75c4ee",
   "metadata": {},
   "outputs": [
    {
     "name": "stderr",
     "output_type": "stream",
     "text": [
      "WARNING:absl:Compiled the loaded model, but the compiled metrics have yet to be built. `model.compile_metrics` will be empty until you train or evaluate the model.\n",
      "WARNING:absl:Compiled the loaded model, but the compiled metrics have yet to be built. `model.compile_metrics` will be empty until you train or evaluate the model.\n",
      "WARNING:absl:Compiled the loaded model, but the compiled metrics have yet to be built. `model.compile_metrics` will be empty until you train or evaluate the model.\n"
     ]
    }
   ],
   "source": [
    "model_rnn = load_model('model_rnn.h5')\n",
    "model_lstm = load_model('model_lstm.h5')\n",
    "model_gru = load_model('model_gru.h5')\n",
    "\n",
    "with open('tokenizer.pickle', 'rb') as handle:\n",
    "    tokenizer = pickle.load(handle)\n",
    "\n",
    "text_label_mapping = {0: 'negative', 1: 'neutral', 2: 'positive'}"
   ]
  },
  {
   "cell_type": "markdown",
   "id": "dfcdac5a",
   "metadata": {},
   "source": [
    "## **Define Function**"
   ]
  },
  {
   "cell_type": "code",
   "execution_count": 3,
   "id": "e4ce56b6",
   "metadata": {},
   "outputs": [],
   "source": [
    "def predict_sentiment(texts, tokenizer, model, label_mapping):\n",
    "    seq = tokenizer.texts_to_sequences(texts)\n",
    "    pad = pad_sequences(seq, maxlen=100)\n",
    "    preds = model.predict(pad)\n",
    "    labels = [label_mapping[np.argmax(p)] for p in preds]\n",
    "    return labels, preds"
   ]
  },
  {
   "cell_type": "markdown",
   "id": "013b2813",
   "metadata": {},
   "source": [
    "## **Predict**"
   ]
  },
  {
   "cell_type": "code",
   "execution_count": 11,
   "id": "1a64afac",
   "metadata": {},
   "outputs": [
    {
     "name": "stdout",
     "output_type": "stream",
     "text": [
      "\u001b[1m1/1\u001b[0m \u001b[32m━━━━━━━━━━━━━━━━━━━━\u001b[0m\u001b[37m\u001b[0m \u001b[1m0s\u001b[0m 31ms/step\n",
      "\u001b[1m1/1\u001b[0m \u001b[32m━━━━━━━━━━━━━━━━━━━━\u001b[0m\u001b[37m\u001b[0m \u001b[1m0s\u001b[0m 46ms/step\n",
      "\u001b[1m1/1\u001b[0m \u001b[32m━━━━━━━━━━━━━━━━━━━━\u001b[0m\u001b[37m\u001b[0m \u001b[1m0s\u001b[0m 44ms/step\n",
      "Sentiment Analysis Result\n",
      "Text : Aplikasi ini benar-benar mengecewakan. Saya mengalami masalah sejak pertama kali mengunduhnya. Aplikasi sering crash, dan penggunaannya sangat buruk. Bahkan setelah beberapa pembaruan, kinerja aplikasi tidak membaik.\n",
      "Model (RNN)    : negative (Probability: 0.9753)\n",
      "Model (LSTM)   : negative (Probability: 0.4952)\n",
      "Model (GRU)    : negative (Probability: 0.9998)\n"
     ]
    }
   ],
   "source": [
    "input_text = input(\"Input Text: \")\n",
    "\n",
    "text_list = [input_text]\n",
    "\n",
    "label_rnn, prob_rnn = predict_sentiment(text_list, tokenizer, model_rnn, text_label_mapping)\n",
    "label_lstm, prob_lstm = predict_sentiment(text_list, tokenizer, model_lstm, text_label_mapping)\n",
    "label_gru, prob_gru = predict_sentiment(text_list, tokenizer, model_gru, text_label_mapping)\n",
    "\n",
    "print(\"Sentiment Analysis Result\")\n",
    "print(f\"Text : {input_text}\")\n",
    "print(f\"Model (RNN)    : {label_rnn[0]} (Probability: {np.max(prob_rnn[0]):.4f})\")\n",
    "print(f\"Model (LSTM)   : {label_lstm[0]} (Probability: {np.max(prob_lstm[0]):.4f})\")\n",
    "print(f\"Model (GRU)    : {label_gru[0]} (Probability: {np.max(prob_gru[0]):.4f})\")"
   ]
  }
 ],
 "metadata": {
  "kernelspec": {
   "display_name": "base",
   "language": "python",
   "name": "python3"
  },
  "language_info": {
   "codemirror_mode": {
    "name": "ipython",
    "version": 3
   },
   "file_extension": ".py",
   "mimetype": "text/x-python",
   "name": "python",
   "nbconvert_exporter": "python",
   "pygments_lexer": "ipython3",
   "version": "3.12.7"
  }
 },
 "nbformat": 4,
 "nbformat_minor": 5
}
