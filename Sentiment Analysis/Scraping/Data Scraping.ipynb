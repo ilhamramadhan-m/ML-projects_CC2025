{
 "cells": [
  {
   "cell_type": "markdown",
   "id": "a033a4dd",
   "metadata": {},
   "source": [
    "# **Data Scraping**"
   ]
  },
  {
   "cell_type": "markdown",
   "id": "4ddab2cd",
   "metadata": {},
   "source": [
    "## **Import Library**"
   ]
  },
  {
   "cell_type": "code",
   "execution_count": 1,
   "id": "9dba9f21",
   "metadata": {},
   "outputs": [],
   "source": [
    "# mengimport library yang dibutuhkan\n",
    "from google_play_scraper import app, reviews, Sort\n",
    "import pandas as pd"
   ]
  },
  {
   "cell_type": "markdown",
   "id": "fda172b0",
   "metadata": {},
   "source": [
    "#### Penjelasan\n",
    "\n",
    "Pada scraping data ulasan atau review pengguna suatu aplikasi di Google Play Store diperlukan library yang dapat mengakses dan mengambil data tersebut yaitu dengan menggunakan `google_play_scraper` dan untuk mengubah dan mengelola data hasil scraping tersebut menjadi sebuah dataframe memerlukan library `pandas`."
   ]
  },
  {
   "cell_type": "markdown",
   "id": "591ce0d6",
   "metadata": {},
   "source": [
    "## **Scraping User Reviews of the Gopay App**"
   ]
  },
  {
   "cell_type": "code",
   "execution_count": 2,
   "id": "a98ccbba",
   "metadata": {},
   "outputs": [],
   "source": [
    "# scraping data review pengguna aplikasi vidio dari playstore\n",
    "scrap_reviews = reviews(\n",
    "    'com.gojek.gopay',\n",
    "    lang='id',\n",
    "    country='id',\n",
    "    sort=Sort.MOST_RELEVANT,\n",
    "    count=15000,\n",
    "    filter_score_with=None\n",
    ")"
   ]
  },
  {
   "cell_type": "code",
   "execution_count": 3,
   "id": "8ace0f2f",
   "metadata": {},
   "outputs": [
    {
     "data": {
      "text/html": [
       "<div>\n",
       "<style scoped>\n",
       "    .dataframe tbody tr th:only-of-type {\n",
       "        vertical-align: middle;\n",
       "    }\n",
       "\n",
       "    .dataframe tbody tr th {\n",
       "        vertical-align: top;\n",
       "    }\n",
       "\n",
       "    .dataframe thead th {\n",
       "        text-align: right;\n",
       "    }\n",
       "</style>\n",
       "<table border=\"1\" class=\"dataframe\">\n",
       "  <thead>\n",
       "    <tr style=\"text-align: right;\">\n",
       "      <th></th>\n",
       "      <th>content</th>\n",
       "    </tr>\n",
       "  </thead>\n",
       "  <tbody>\n",
       "    <tr>\n",
       "      <th>0</th>\n",
       "      <td>saya suka gopay karena murah dan saldo tetap a...</td>\n",
       "    </tr>\n",
       "    <tr>\n",
       "      <th>1</th>\n",
       "      <td>GoPay emang terbaik! Banyak banget promo dan c...</td>\n",
       "    </tr>\n",
       "    <tr>\n",
       "      <th>2</th>\n",
       "      <td>kecewa, udah top up gak masuk masuk, nunggu 2 ...</td>\n",
       "    </tr>\n",
       "    <tr>\n",
       "      <th>3</th>\n",
       "      <td>Aplikasi bagus untuk transaksi, tapi untuk bag...</td>\n",
       "    </tr>\n",
       "    <tr>\n",
       "      <th>4</th>\n",
       "      <td>Geblek nih gopay, saya isi mandiri emoney tran...</td>\n",
       "    </tr>\n",
       "  </tbody>\n",
       "</table>\n",
       "</div>"
      ],
      "text/plain": [
       "                                             content\n",
       "0  saya suka gopay karena murah dan saldo tetap a...\n",
       "1  GoPay emang terbaik! Banyak banget promo dan c...\n",
       "2  kecewa, udah top up gak masuk masuk, nunggu 2 ...\n",
       "3  Aplikasi bagus untuk transaksi, tapi untuk bag...\n",
       "4  Geblek nih gopay, saya isi mandiri emoney tran..."
      ]
     },
     "execution_count": 3,
     "metadata": {},
     "output_type": "execute_result"
    }
   ],
   "source": [
    "# menampilkan data review hasil scraping\n",
    "df = pd.DataFrame(scrap_reviews[0])\n",
    "df = df[['content']]\n",
    "df.head()"
   ]
  },
  {
   "cell_type": "code",
   "execution_count": 4,
   "id": "d1dcc32d",
   "metadata": {},
   "outputs": [
    {
     "data": {
      "text/plain": [
       "15000"
      ]
     },
     "execution_count": 4,
     "metadata": {},
     "output_type": "execute_result"
    }
   ],
   "source": [
    "# mengecek jumlah data\n",
    "len(df)"
   ]
  },
  {
   "cell_type": "markdown",
   "id": "e6cf1da2",
   "metadata": {},
   "source": [
    "#### Penjelasan\n",
    "\n",
    "Untuk keperluan analisis sentimen review pengguna terhadap aplikasi **Gopay** dari **Google Play Store** diambil sebanyak 50.000 data dengan ulasan berbahasa indonesia. Data ulasan yang diambil adalah yang paling relevan dikarenakan ingin menganalisis sentimen pengguna dari penilaian atau ulasan secara umum terhadap aplikasi. Selanjutnya data tersebut akan digunakan untuk analisis sentimen untuk mengetahui kepuasan atau impresi pengguna terhadap aplikasi dengan menggunakan algoritma machine learning."
   ]
  },
  {
   "cell_type": "markdown",
   "id": "b027d62c",
   "metadata": {},
   "source": [
    "## **Export Dataset**"
   ]
  },
  {
   "cell_type": "code",
   "execution_count": 5,
   "id": "a079311f",
   "metadata": {},
   "outputs": [],
   "source": [
    "# mengeksport data ke dalam file csv\n",
    "df.to_csv('gopay_app_reviews.csv', index=False)"
   ]
  },
  {
   "cell_type": "markdown",
   "id": "6684422a",
   "metadata": {},
   "source": [
    "#### Penjelasan\n",
    "\n",
    "Data hasil scraping di eksport ke dalam file csv untuk selanjutnya dilakukan analisis sentimen."
   ]
  }
 ],
 "metadata": {
  "kernelspec": {
   "display_name": "base",
   "language": "python",
   "name": "python3"
  },
  "language_info": {
   "codemirror_mode": {
    "name": "ipython",
    "version": 3
   },
   "file_extension": ".py",
   "mimetype": "text/x-python",
   "name": "python",
   "nbconvert_exporter": "python",
   "pygments_lexer": "ipython3",
   "version": "3.12.7"
  }
 },
 "nbformat": 4,
 "nbformat_minor": 5
}
