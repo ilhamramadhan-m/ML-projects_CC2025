{
 "cells": [
  {
   "cell_type": "markdown",
   "id": "5099ce95",
   "metadata": {},
   "source": [
    "## **Import Library**"
   ]
  },
  {
   "cell_type": "code",
   "execution_count": 2,
   "id": "c0e73dbc",
   "metadata": {},
   "outputs": [],
   "source": [
    "import kagglehub\n",
    "import os\n",
    "import pandas as pd\n",
    "import matplotlib.pyplot as plt\n",
    "import seaborn as sns\n",
    "from sklearn.feature_extraction.text import TfidfVectorizer\n",
    "from sklearn.preprocessing import OneHotEncoder\n",
    "from sklearn.metrics.pairwise import cosine_similarity\n",
    "import numpy as np\n",
    "import tensorflow as tf\n",
    "from tensorflow import keras\n",
    "from tensorflow.keras import layers\n"
   ]
  },
  {
   "cell_type": "markdown",
   "id": "1a222975",
   "metadata": {},
   "source": [
    "## **Data Loading**"
   ]
  },
  {
   "cell_type": "code",
   "execution_count": 3,
   "id": "8118edbb",
   "metadata": {},
   "outputs": [
    {
     "name": "stdout",
     "output_type": "stream",
     "text": [
      "Path to dataset files: C:\\Users\\M Ilham Ramadhan\\.cache\\kagglehub\\datasets\\arashnic\\book-recommendation-dataset\\versions\\3\n"
     ]
    }
   ],
   "source": [
    "# Download dataset\n",
    "path = kagglehub.dataset_download(\"arashnic/book-recommendation-dataset\")\n",
    "print(\"Path to dataset files:\", path)"
   ]
  },
  {
   "cell_type": "code",
   "execution_count": 4,
   "id": "94c17aef",
   "metadata": {},
   "outputs": [
    {
     "name": "stdout",
     "output_type": "stream",
     "text": [
      "['Books.csv', 'classicRec.png', 'DeepRec.png', 'Ratings.csv', 'recsys_taxonomy2.png', 'Users.csv']\n"
     ]
    }
   ],
   "source": [
    "# Mengecek nama file\n",
    "files = os.listdir(path)\n",
    "print(files)"
   ]
  },
  {
   "cell_type": "code",
   "execution_count": 5,
   "id": "7a799a34",
   "metadata": {},
   "outputs": [
    {
     "name": "stderr",
     "output_type": "stream",
     "text": [
      "C:\\Users\\M Ilham Ramadhan\\AppData\\Local\\Temp\\ipykernel_6396\\1469713850.py:2: DtypeWarning: Columns (3) have mixed types. Specify dtype option on import or set low_memory=False.\n",
      "  df_books = pd.read_csv(f'{path}/Books.csv')\n"
     ]
    }
   ],
   "source": [
    "# Import dataset\n",
    "df_books = pd.read_csv(f'{path}/Books.csv')\n",
    "df_ratings = pd.read_csv(f'{path}/Ratings.csv')\n",
    "df_users = pd.read_csv(f'{path}/Users.csv')"
   ]
  },
  {
   "cell_type": "markdown",
   "id": "61f1fa4c",
   "metadata": {},
   "source": [
    "## **Exploratory Data Analysis**"
   ]
  },
  {
   "cell_type": "markdown",
   "id": "a24ff0ec",
   "metadata": {},
   "source": [
    "### Ratings"
   ]
  },
  {
   "cell_type": "code",
   "execution_count": 6,
   "id": "9de2c14a",
   "metadata": {},
   "outputs": [
    {
     "name": "stdout",
     "output_type": "stream",
     "text": [
      "<class 'pandas.core.frame.DataFrame'>\n",
      "RangeIndex: 1149780 entries, 0 to 1149779\n",
      "Data columns (total 3 columns):\n",
      " #   Column       Non-Null Count    Dtype \n",
      "---  ------       --------------    ----- \n",
      " 0   User-ID      1149780 non-null  int64 \n",
      " 1   ISBN         1149780 non-null  object\n",
      " 2   Book-Rating  1149780 non-null  int64 \n",
      "dtypes: int64(2), object(1)\n",
      "memory usage: 26.3+ MB\n"
     ]
    }
   ],
   "source": [
    "# Menampilkan informasi awal dari dataset\n",
    "df_ratings.info()"
   ]
  },
  {
   "cell_type": "code",
   "execution_count": 7,
   "id": "f7297479",
   "metadata": {},
   "outputs": [
    {
     "data": {
      "image/png": "[encoded data removed]",
      "text/plain": [
       "<Figure size 1000x600 with 1 Axes>"
      ]
     },
     "metadata": {},
     "output_type": "display_data"
    }
   ],
   "source": [
    "# Memvisualisasikan distribusi rating\n",
    "plt.figure(figsize=(10, 6))\n",
    "sns.countplot(x='Book-Rating', data=df_ratings)\n",
    "plt.title('Distribution of Book Ratings')\n",
    "plt.xlabel('Rating')\n",
    "plt.ylabel('Count')\n",
    "plt.xticks(rotation=45)\n",
    "plt.show()"
   ]
  },
  {
   "cell_type": "markdown",
   "id": "79de6840",
   "metadata": {},
   "source": [
    "**Insight**\n",
    "\n",
    "Tabel `Ratings` merupakan inti dari sistem rekomendasi karena berisi interaksi antara pengguna dan buku dalam bentuk rating. Tabel ini menjadi dasar dalam pendekatan collaborative filtering untuk mempelajari pola kesukaan pengguna.\n",
    "\n",
    "Kolom-kolom pada tabel ini mencakup:\n",
    "- **User-ID** : ID pengguna yang memberikan rating.\n",
    "- **ISBN** : ISBN buku yang dinilai.\n",
    "- **Book-Rating** : Nilai rating yang diberikan pengguna terhadap buku (rentang 0–10, di mana 0 berarti tidak memberikan rating eksplisit).\n",
    "\n",
    "Tabel `Ratings` merupakan tabel interaksi antara pengguna dan buku. Terdiri dari 1.149.780 baris dan 3 kolom, dengan nilai `Book-Rating` berupa skor dari 0 sampai 10. Rating bernilai 0 mengindikasikan bahwa pengguna tidak memberikan rating eksplisit.\n",
    "\n",
    "Hasil visualisasi menunjukkan bahwa mayoritas pengguna cenderung memberikan rating tinggi, terutama pada nilai rentang 7 hingga 10. Sementara itu, rating rendah (1–3) relatif jarang diberikan. Distribusi ini mengindikasikan adanya bias positif dalam sistem penilaian buku, yang umum ditemukan pada data crowdsourced, di mana pengguna cenderung menilai buku yang mereka sukai."
   ]
  },
  {
   "cell_type": "markdown",
   "id": "142579dc",
   "metadata": {},
   "source": [
    "### Books"
   ]
  },
  {
   "cell_type": "code",
   "execution_count": 8,
   "id": "192b3469",
   "metadata": {},
   "outputs": [
    {
     "name": "stdout",
     "output_type": "stream",
     "text": [
      "<class 'pandas.core.frame.DataFrame'>\n",
      "RangeIndex: 271360 entries, 0 to 271359\n",
      "Data columns (total 8 columns):\n",
      " #   Column               Non-Null Count   Dtype \n",
      "---  ------               --------------   ----- \n",
      " 0   ISBN                 271360 non-null  object\n",
      " 1   Book-Title           271360 non-null  object\n",
      " 2   Book-Author          271358 non-null  object\n",
      " 3   Year-Of-Publication  271360 non-null  object\n",
      " 4   Publisher            271358 non-null  object\n",
      " 5   Image-URL-S          271360 non-null  object\n",
      " 6   Image-URL-M          271360 non-null  object\n",
      " 7   Image-URL-L          271357 non-null  object\n",
      "dtypes: object(8)\n",
      "memory usage: 16.6+ MB\n"
     ]
    }
   ],
   "source": [
    "# Menampilkan informasi awal dari dataset\n",
    "df_books.info()"
   ]
  },
  {
   "cell_type": "code",
   "execution_count": 9,
   "id": "013becc3",
   "metadata": {},
   "outputs": [
    {
     "name": "stdout",
     "output_type": "stream",
     "text": [
      "Unique years of publication :\n",
      " [2002 2001 1991 1999 2000 1993 1996 1988 2004 1998 1994 2003 1997 1983\n",
      " 1979 1995 1982 1985 1992 1986 1978 1980 1952 1987 1990 1981 1989 1984 0\n",
      " 1968 1961 1958 1974 1976 1971 1977 1975 1965 1941 1970 1962 1973 1972\n",
      " 1960 1966 1920 1956 1959 1953 1951 1942 1963 1964 1969 1954 1950 1967\n",
      " 2005 1957 1940 1937 1955 1946 1936 1930 2011 1925 1948 1943 1947 1945\n",
      " 1923 2020 1939 1926 1938 2030 1911 1904 1949 1932 1928 1929 1927 1931\n",
      " 1914 2050 1934 1910 1933 1902 1924 1921 1900 2038 2026 1944 1917 1901\n",
      " 2010 1908 1906 1935 1806 2021 '2000' '1995' '1999' '2004' '2003' '1990'\n",
      " '1994' '1986' '1989' '2002' '1981' '1993' '1983' '1982' '1976' '1991'\n",
      " '1977' '1998' '1992' '1996' '0' '1997' '2001' '1974' '1968' '1987' '1984'\n",
      " '1988' '1963' '1956' '1970' '1985' '1978' '1973' '1980' '1979' '1975'\n",
      " '1969' '1961' '1965' '1939' '1958' '1950' '1953' '1966' '1971' '1959'\n",
      " '1972' '1955' '1957' '1945' '1960' '1967' '1932' '1924' '1964' '2012'\n",
      " '1911' '1927' '1948' '1962' '2006' '1952' '1940' '1951' '1931' '1954'\n",
      " '2005' '1930' '1941' '1944' 'DK Publishing Inc' '1943' '1938' '1900'\n",
      " '1942' '1923' '1920' '1933' 'Gallimard' '1909' '1946' '2008' '1378'\n",
      " '2030' '1936' '1947' '2011' '2020' '1919' '1949' '1922' '1897' '2024'\n",
      " '1376' '1926' '2037']\n"
     ]
    }
   ],
   "source": [
    "# Mengecek nilai unik pada kolom 'Year-Of-Publication'\n",
    "print(\"Unique years of publication :\\n\", df_books['Year-Of-Publication'].unique())"
   ]
  },
  {
   "cell_type": "code",
   "execution_count": 10,
   "id": "f1fb935b",
   "metadata": {},
   "outputs": [
    {
     "data": {
      "image/png": "[encoded data removed]",
      "text/plain": [
       "<Figure size 1200x600 with 1 Axes>"
      ]
     },
     "metadata": {},
     "output_type": "display_data"
    }
   ],
   "source": [
    "# Memvisualisasikan top 10 tahun dengan publikasi buku terbanyak\n",
    "plt.figure(figsize=(12, 6))\n",
    "sns.countplot(x='Year-Of-Publication', data=df_books, order=df_books['Year-Of-Publication'].value_counts().index[:10])\n",
    "plt.title('Distribution of Book Publication Years')\n",
    "plt.xlabel('Year of Publication')\n",
    "plt.ylabel('Count')\n",
    "plt.xticks(rotation=45)\n",
    "plt.show()"
   ]
  },
  {
   "cell_type": "markdown",
   "id": "d1ceb0fb",
   "metadata": {},
   "source": [
    "**Insight**\n",
    "\n",
    "Tabel `Books` berisi metadata terkait buku yang tersedia dalam dataset. Informasi ini berguna untuk membangun model content-based filtering karena dapat digunakan untuk menghitung kesamaan antar buku berdasarkan atribut seperti judul, penulis, dan penerbit.\n",
    "\n",
    "Kolom-kolom pada tabel ini mencakup:\n",
    "- **ISBN** : Nomor identifikasi unik untuk setiap buku (sebagai primary key).\n",
    "- **Book-Title** : Judul buku.\n",
    "- **Book-Author** : Nama penulis buku.\n",
    "- **Year-Of-Publication** : Tahun diterbitkannya buku.\n",
    "- **Publisher** : Nama penerbit buku.\n",
    "- **Image-URL-S/M/L** : Link URL untuk gambar sampul buku dalam berbagai ukuran.\n",
    "\n",
    "Tabel `Books` memiliki 271.360 entri data buku dengan 8 kolom. Kolom `ISBN` berperan sebagai identifikasi unik, dan sebagian besar kolom bertipe string. Namun, kolom `Year-Of-Publication` bertipe numerik. Beberapa data pada kolom `Year-Of-Publication` dan `Publisher` mengandung nilai tidak valid atau tidak lengkap.\n",
    "\n",
    "Dari visualisasi tersebut terlihat bahwa sebagian besar buku dalam dataset diterbitkan antara tahun 1990 hingga awal 2000-an. Puncak publikasi terjadi pada tahun-tahun seperti 1999 dan 2002. Ini menandakan bahwa dataset memiliki fokus pada literatur modern dari dua dekade terakhir abad ke-20, yang cukup representatif untuk sistem rekomendasi buku kontemporer."
   ]
  },
  {
   "cell_type": "markdown",
   "id": "61f24d3b",
   "metadata": {},
   "source": [
    "### Users"
   ]
  },
  {
   "cell_type": "code",
   "execution_count": 11,
   "id": "0806ceb9",
   "metadata": {},
   "outputs": [
    {
     "name": "stdout",
     "output_type": "stream",
     "text": [
      "<class 'pandas.core.frame.DataFrame'>\n",
      "RangeIndex: 278858 entries, 0 to 278857\n",
      "Data columns (total 3 columns):\n",
      " #   Column    Non-Null Count   Dtype  \n",
      "---  ------    --------------   -----  \n",
      " 0   User-ID   278858 non-null  int64  \n",
      " 1   Location  278858 non-null  object \n",
      " 2   Age       168096 non-null  float64\n",
      "dtypes: float64(1), int64(1), object(1)\n",
      "memory usage: 6.4+ MB\n"
     ]
    }
   ],
   "source": [
    "# Menampilkan informasi awal dari dataset\n",
    "df_users.info()"
   ]
  },
  {
   "cell_type": "code",
   "execution_count": 12,
   "id": "f0033df1",
   "metadata": {},
   "outputs": [
    {
     "data": {
      "image/png": "[encoded data removed]",
      "text/plain": [
       "<Figure size 1200x600 with 1 Axes>"
      ]
     },
     "metadata": {},
     "output_type": "display_data"
    }
   ],
   "source": [
    "# Menmvisualisasikan 10 lokasi dengan jumlah pengguna terbanyak\n",
    "plt.figure(figsize=(12, 6))\n",
    "sns.countplot(y='Location', data=df_users, order=df_users['Location'].value_counts().index[:10])\n",
    "plt.title('Top 10 User Locations')\n",
    "plt.xlabel('Count')\n",
    "plt.ylabel('Location')\n",
    "plt.show()"
   ]
  },
  {
   "cell_type": "markdown",
   "id": "f51978b4",
   "metadata": {},
   "source": [
    "**Insight**\n",
    "\n",
    "Tabel `Users` berisi informasi dasar tentang pengguna yang memberikan rating pada buku. Informasi ini digunakan dalam collaborative filtering, terutama untuk mengelompokkan pengguna berdasarkan kesamaan preferensi.\n",
    "\n",
    "Kolom-kolom pada tabel ini mencakup:\n",
    "- **User-ID** : ID unik yang merepresentasikan setiap pengguna.\n",
    "- **Location** : Informasi lokasi pengguna (biasanya terdiri dari kota, negara bagian, dan negara).\n",
    "- **Age** : Usia pengguna (nilai ini bersifat opsional dan banyak mengandung missing value).\n",
    "\n",
    "Tabel `Users` berisi 278.858 data pengguna dengan 3 kolom utama. Terdapat missing value pada kolom `Age`, dan data pada kolom `Location` memiliki format kombinasi `city, state, country`.\n",
    "\n",
    "Visualisasi distribusi pengguna berdasarkan lokasi geografis menunjukkan bahwa sebagian besar pengguna berasal dari negara-negara dengan penetrasi internet yang tinggi, seperti Amerika Serikat, Kanada, dan Inggris. Hal ini mencerminkan distribusi penggunaan layanan berbasis buku yang cenderung terpusat di negara-negara berbahasa Inggris, yang juga menjadi target pasar utama bagi banyak sistem rekomendasi literatur digital."
   ]
  },
  {
   "cell_type": "markdown",
   "id": "77287f02",
   "metadata": {},
   "source": [
    "## **Data Preparation**"
   ]
  },
  {
   "cell_type": "markdown",
   "id": "f144cea1",
   "metadata": {},
   "source": [
    "### Data Handling"
   ]
  },
  {
   "cell_type": "code",
   "execution_count": 13,
   "id": "8836372f",
   "metadata": {},
   "outputs": [],
   "source": [
    "# Menghapus rating yang bernilai 0\n",
    "df_ratings = df_ratings[df_ratings['Book-Rating'] != 0]"
   ]
  },
  {
   "cell_type": "code",
   "execution_count": 14,
   "id": "5f2b5b25",
   "metadata": {},
   "outputs": [],
   "source": [
    "# Melakukan pembersihan data pada kolom 'Year-Of-Publication'\n",
    "df_books = df_books[df_books['Year-Of-Publication'].astype(str).str.isnumeric()]\n",
    "df_books['Year-Of-Publication'] = df_books['Year-Of-Publication'].astype(int)\n",
    "\n",
    "df_books['Year-Of-Publication'] = pd.to_datetime(\n",
    "    df_books['Year-Of-Publication'], format='%Y', errors='coerce'\n",
    ").dt.year\n",
    "\n",
    "invalid_years = [2026, 2030, 2037, 2038, 2050]\n",
    "df_books = df_books[~df_books['Year-Of-Publication'].isin(invalid_years)]"
   ]
  },
  {
   "cell_type": "code",
   "execution_count": 15,
   "id": "9c48afab",
   "metadata": {},
   "outputs": [],
   "source": [
    "# Mengambil hanya bagian negara dari kolom 'Location'\n",
    "df_users['Location'] = df_users['Location'].str.split(',').str[-1].str.strip()"
   ]
  },
  {
   "cell_type": "markdown",
   "id": "818fcb23",
   "metadata": {},
   "source": [
    "**Insight**\n",
    "\n",
    "Pada tabel `Ratings`, terdapat nilai rating 0 yang menunjukkan bahwa pengguna tidak memberikan penilaian eksplisit terhadap buku tersebut. Dalam sistem rekomendasi berbasis rating, nilai 0 ini tidak memberikan kontribusi terhadap proses pelatihan model karena tidak merepresentasikan preferensi pengguna.\n",
    "\n",
    "Kolom `Year-Of-Publication` pada tabel Books memiliki data yang tidak valid, seperti nilai berupa string yang bukan angka dan tahun-tahun di luar rentang yang masuk akal (misalnya 2026, 2030, 2037, dll). Oleh karena itu, dilakukan beberapa langkah pembersihan data, dimulai dengan memfilter nilai tahun agar hanya menyisakan data numerik yang valid, kemudian mengubah formatnya ke datetime, serta menghapus tahun yang berada di luar rentang realistis.\n",
    "\n",
    "Kolom `Location` pada tabel `Users` berisi informasi lokasi pengguna dalam format `city, state, country`. Untuk menyederhanakan data dan hanya mengambil informasi tingkat negara, dilakukan ekstraksi bagian terakhir setelah koma sebagai representasi negara pengguna. Langkah ini bertujuan untuk memudahkan agregasi dan analisis berdasarkan wilayah pengguna jika dibutuhkan pada tahap selanjutnya, seperti pemfilteran konten berdasarkan lokasi"
   ]
  },
  {
   "cell_type": "markdown",
   "id": "d769494a",
   "metadata": {},
   "source": [
    "### Penggabungan Tabel"
   ]
  },
  {
   "cell_type": "code",
   "execution_count": 16,
   "id": "e34e2762",
   "metadata": {},
   "outputs": [],
   "source": [
    "# Menggabungkan tabel df_ratings dengan df_books\n",
    "ratings_books = df_ratings.merge(df_books, on='ISBN')"
   ]
  },
  {
   "cell_type": "code",
   "execution_count": 17,
   "id": "ffe91be9",
   "metadata": {},
   "outputs": [],
   "source": [
    "# Menggabungkan tabel dengan df_users\n",
    "ratings_books_users = ratings_books.merge(df_users.drop(\"Age\", axis=1), on=\"User-ID\")"
   ]
  },
  {
   "cell_type": "code",
   "execution_count": 18,
   "id": "6678839b",
   "metadata": {},
   "outputs": [
    {
     "data": {
      "text/html": [
       "<div>\n",
       "<style scoped>\n",
       "    .dataframe tbody tr th:only-of-type {\n",
       "        vertical-align: middle;\n",
       "    }\n",
       "\n",
       "    .dataframe tbody tr th {\n",
       "        vertical-align: top;\n",
       "    }\n",
       "\n",
       "    .dataframe thead th {\n",
       "        text-align: right;\n",
       "    }\n",
       "</style>\n",
       "<table border=\"1\" class=\"dataframe\">\n",
       "  <thead>\n",
       "    <tr style=\"text-align: right;\">\n",
       "      <th></th>\n",
       "      <th>User-ID</th>\n",
       "      <th>ISBN</th>\n",
       "      <th>Book-Title</th>\n",
       "      <th>Book-Author</th>\n",
       "      <th>Publisher</th>\n",
       "      <th>Year-Of-Publication</th>\n",
       "      <th>Location</th>\n",
       "      <th>Book-Rating</th>\n",
       "    </tr>\n",
       "  </thead>\n",
       "  <tbody>\n",
       "    <tr>\n",
       "      <th>0</th>\n",
       "      <td>276726</td>\n",
       "      <td>0155061224</td>\n",
       "      <td>Rites of Passage</td>\n",
       "      <td>Judith Rae</td>\n",
       "      <td>Heinle</td>\n",
       "      <td>2001.0</td>\n",
       "      <td>usa</td>\n",
       "      <td>5</td>\n",
       "    </tr>\n",
       "    <tr>\n",
       "      <th>1</th>\n",
       "      <td>276729</td>\n",
       "      <td>052165615X</td>\n",
       "      <td>Help!: Level 1</td>\n",
       "      <td>Philip Prowse</td>\n",
       "      <td>Cambridge University Press</td>\n",
       "      <td>1999.0</td>\n",
       "      <td>croatia</td>\n",
       "      <td>3</td>\n",
       "    </tr>\n",
       "    <tr>\n",
       "      <th>2</th>\n",
       "      <td>276729</td>\n",
       "      <td>0521795028</td>\n",
       "      <td>The Amsterdam Connection : Level 4 (Cambridge ...</td>\n",
       "      <td>Sue Leather</td>\n",
       "      <td>Cambridge University Press</td>\n",
       "      <td>2001.0</td>\n",
       "      <td>croatia</td>\n",
       "      <td>6</td>\n",
       "    </tr>\n",
       "    <tr>\n",
       "      <th>3</th>\n",
       "      <td>276744</td>\n",
       "      <td>038550120X</td>\n",
       "      <td>A Painted House</td>\n",
       "      <td>JOHN GRISHAM</td>\n",
       "      <td>Doubleday</td>\n",
       "      <td>2001.0</td>\n",
       "      <td>usa</td>\n",
       "      <td>7</td>\n",
       "    </tr>\n",
       "    <tr>\n",
       "      <th>4</th>\n",
       "      <td>276747</td>\n",
       "      <td>0060517794</td>\n",
       "      <td>Little Altars Everywhere</td>\n",
       "      <td>Rebecca Wells</td>\n",
       "      <td>HarperTorch</td>\n",
       "      <td>2003.0</td>\n",
       "      <td>usa</td>\n",
       "      <td>9</td>\n",
       "    </tr>\n",
       "  </tbody>\n",
       "</table>\n",
       "</div>"
      ],
      "text/plain": [
       "   User-ID        ISBN                                         Book-Title  \\\n",
       "0   276726  0155061224                                   Rites of Passage   \n",
       "1   276729  052165615X                                     Help!: Level 1   \n",
       "2   276729  0521795028  The Amsterdam Connection : Level 4 (Cambridge ...   \n",
       "3   276744  038550120X                                    A Painted House   \n",
       "4   276747  0060517794                           Little Altars Everywhere   \n",
       "\n",
       "     Book-Author                   Publisher  Year-Of-Publication Location  \\\n",
       "0     Judith Rae                      Heinle               2001.0      usa   \n",
       "1  Philip Prowse  Cambridge University Press               1999.0  croatia   \n",
       "2    Sue Leather  Cambridge University Press               2001.0  croatia   \n",
       "3   JOHN GRISHAM                   Doubleday               2001.0      usa   \n",
       "4  Rebecca Wells                 HarperTorch               2003.0      usa   \n",
       "\n",
       "   Book-Rating  \n",
       "0            5  \n",
       "1            3  \n",
       "2            6  \n",
       "3            7  \n",
       "4            9  "
      ]
     },
     "execution_count": 18,
     "metadata": {},
     "output_type": "execute_result"
    }
   ],
   "source": [
    "# Menyusun dataset final\n",
    "df_all = ratings_books_users[['User-ID', 'ISBN', 'Book-Title', 'Book-Author', 'Publisher', 'Year-Of-Publication', 'Location', 'Book-Rating']]\n",
    "df_all.head()"
   ]
  },
  {
   "cell_type": "markdown",
   "id": "33dda165",
   "metadata": {},
   "source": [
    "**Insight**\n",
    "\n",
    "Tabel `Ratings`, `Books`, dan `Users` bersifat relasional dan dapat di-*join* dengan tabel `Books` dan `Users` melalui kolom `ISBN` dan `User-ID` untuk membentuk dataset yang lebih kaya informasi. Dalam proyek ini, ketiga tabel digunakan untuk membangun dan mengevaluasi sistem rekomendasi yang mampu memberikan saran buku yang relevan bagi pengguna."
   ]
  },
  {
   "cell_type": "markdown",
   "id": "700e0c79",
   "metadata": {},
   "source": [
    "### Menangani Missing Value"
   ]
  },
  {
   "cell_type": "code",
   "execution_count": 19,
   "id": "a674a75a",
   "metadata": {},
   "outputs": [
    {
     "name": "stdout",
     "output_type": "stream",
     "text": [
      "Missing Value :\n",
      "User-ID                   0\n",
      "ISBN                      0\n",
      "Book-Title                0\n",
      "Book-Author               2\n",
      "Publisher                 2\n",
      "Year-Of-Publication    5785\n",
      "Location                  0\n",
      "Book-Rating               0\n",
      "dtype: int64\n"
     ]
    }
   ],
   "source": [
    "# Cek missing value\n",
    "print(f'Missing Value :\\n{df_all.isnull().sum()}')"
   ]
  },
  {
   "cell_type": "code",
   "execution_count": 20,
   "id": "3aa7e5b0",
   "metadata": {},
   "outputs": [
    {
     "name": "stderr",
     "output_type": "stream",
     "text": [
      "C:\\Users\\M Ilham Ramadhan\\AppData\\Local\\Temp\\ipykernel_6396\\831735889.py:2: SettingWithCopyWarning: \n",
      "A value is trying to be set on a copy of a slice from a DataFrame\n",
      "\n",
      "See the caveats in the documentation: https://pandas.pydata.org/pandas-docs/stable/user_guide/indexing.html#returning-a-view-versus-a-copy\n",
      "  df_all.dropna(inplace=True)\n"
     ]
    }
   ],
   "source": [
    "# Menghapus missing value\n",
    "df_all.dropna(inplace=True)"
   ]
  },
  {
   "cell_type": "markdown",
   "id": "00d081b1",
   "metadata": {},
   "source": [
    "**Insight**\n",
    "\n",
    "Setelah semua data tergabung, dilakukan pengecekan nilai yang hilang. Dari hasil pengecekan, ditemukan beberapa missing value di kolom `Book-Author`, `Publisher`, dan `Year-Of-Publication`. Oleh karena itu, dilakukan penghapusan seluruh baris yang mengandung nilai kosong dengan kode berikut."
   ]
  },
  {
   "cell_type": "markdown",
   "id": "8087c9f3",
   "metadata": {},
   "source": [
    "### Menangani Data Duplikat"
   ]
  },
  {
   "cell_type": "code",
   "execution_count": 21,
   "id": "2a1daeac",
   "metadata": {},
   "outputs": [
    {
     "name": "stdout",
     "output_type": "stream",
     "text": [
      "Duplicate Data :\n",
      "0\n"
     ]
    }
   ],
   "source": [
    "# Cek duplkasi data\n",
    "print(f'Duplicate Data :\\n{df_all.duplicated().sum()}')"
   ]
  },
  {
   "cell_type": "markdown",
   "id": "3406c314",
   "metadata": {},
   "source": [
    "**Insight**\n",
    "\n",
    "Setelah memastikan tidak adanya missing value, langkah berikutnya adalah memeriksa apakah terdapat baris data yang duplikat. Duplikasi dapat terjadi karena kesalahan saat pengumpulan atau penggabungan data dan bisa memengaruhi hasil analisis. Berdasarkan hasil pengecekan duplikasi data, didapatkan bahwa tidak terdapat duplikat data pada dataset sehingga tidak diperlukan penghapusan data dan bisa dilanjutkan ke analisis selanjutnya."
   ]
  },
  {
   "cell_type": "markdown",
   "id": "1dcd86ab",
   "metadata": {},
   "source": [
    "### Penyesuaian Data"
   ]
  },
  {
   "cell_type": "code",
   "execution_count": 22,
   "id": "ff6a910d",
   "metadata": {},
   "outputs": [],
   "source": [
    "df_all.columns = [\n",
    "    'user_id',\n",
    "    'isbn',\n",
    "    'book_title',\n",
    "    'book_author',\n",
    "    'publisher',\n",
    "    'year_of_publication',\n",
    "    'location',\n",
    "    'book_rating'\n",
    "]"
   ]
  },
  {
   "cell_type": "code",
   "execution_count": 23,
   "id": "0ce7130f",
   "metadata": {},
   "outputs": [
    {
     "data": {
      "text/html": [
       "<div>\n",
       "<style scoped>\n",
       "    .dataframe tbody tr th:only-of-type {\n",
       "        vertical-align: middle;\n",
       "    }\n",
       "\n",
       "    .dataframe tbody tr th {\n",
       "        vertical-align: top;\n",
       "    }\n",
       "\n",
       "    .dataframe thead th {\n",
       "        text-align: right;\n",
       "    }\n",
       "</style>\n",
       "<table border=\"1\" class=\"dataframe\">\n",
       "  <thead>\n",
       "    <tr style=\"text-align: right;\">\n",
       "      <th></th>\n",
       "      <th>user_id</th>\n",
       "      <th>isbn</th>\n",
       "      <th>book_title</th>\n",
       "      <th>book_author</th>\n",
       "      <th>publisher</th>\n",
       "      <th>year_of_publication</th>\n",
       "      <th>location</th>\n",
       "      <th>book_rating</th>\n",
       "    </tr>\n",
       "  </thead>\n",
       "  <tbody>\n",
       "    <tr>\n",
       "      <th>0</th>\n",
       "      <td>276726</td>\n",
       "      <td>0155061224</td>\n",
       "      <td>Rites of Passage</td>\n",
       "      <td>Judith Rae</td>\n",
       "      <td>Heinle</td>\n",
       "      <td>2001.0</td>\n",
       "      <td>usa</td>\n",
       "      <td>5</td>\n",
       "    </tr>\n",
       "    <tr>\n",
       "      <th>1</th>\n",
       "      <td>276729</td>\n",
       "      <td>052165615X</td>\n",
       "      <td>Help!: Level 1</td>\n",
       "      <td>Philip Prowse</td>\n",
       "      <td>Cambridge University Press</td>\n",
       "      <td>1999.0</td>\n",
       "      <td>croatia</td>\n",
       "      <td>3</td>\n",
       "    </tr>\n",
       "    <tr>\n",
       "      <th>2</th>\n",
       "      <td>276729</td>\n",
       "      <td>0521795028</td>\n",
       "      <td>The Amsterdam Connection : Level 4 (Cambridge ...</td>\n",
       "      <td>Sue Leather</td>\n",
       "      <td>Cambridge University Press</td>\n",
       "      <td>2001.0</td>\n",
       "      <td>croatia</td>\n",
       "      <td>6</td>\n",
       "    </tr>\n",
       "    <tr>\n",
       "      <th>3</th>\n",
       "      <td>276744</td>\n",
       "      <td>038550120X</td>\n",
       "      <td>A Painted House</td>\n",
       "      <td>JOHN GRISHAM</td>\n",
       "      <td>Doubleday</td>\n",
       "      <td>2001.0</td>\n",
       "      <td>usa</td>\n",
       "      <td>7</td>\n",
       "    </tr>\n",
       "    <tr>\n",
       "      <th>4</th>\n",
       "      <td>276747</td>\n",
       "      <td>0060517794</td>\n",
       "      <td>Little Altars Everywhere</td>\n",
       "      <td>Rebecca Wells</td>\n",
       "      <td>HarperTorch</td>\n",
       "      <td>2003.0</td>\n",
       "      <td>usa</td>\n",
       "      <td>9</td>\n",
       "    </tr>\n",
       "    <tr>\n",
       "      <th>...</th>\n",
       "      <td>...</td>\n",
       "      <td>...</td>\n",
       "      <td>...</td>\n",
       "      <td>...</td>\n",
       "      <td>...</td>\n",
       "      <td>...</td>\n",
       "      <td>...</td>\n",
       "      <td>...</td>\n",
       "    </tr>\n",
       "    <tr>\n",
       "      <th>383812</th>\n",
       "      <td>276704</td>\n",
       "      <td>0743211383</td>\n",
       "      <td>Dreamcatcher</td>\n",
       "      <td>Stephen King</td>\n",
       "      <td>Scribner</td>\n",
       "      <td>2001.0</td>\n",
       "      <td>usa</td>\n",
       "      <td>7</td>\n",
       "    </tr>\n",
       "    <tr>\n",
       "      <th>383813</th>\n",
       "      <td>276704</td>\n",
       "      <td>0806917695</td>\n",
       "      <td>Perplexing Lateral Thinking Puzzles: Scholasti...</td>\n",
       "      <td>Paul Sloane</td>\n",
       "      <td>Sterling Publishing</td>\n",
       "      <td>1997.0</td>\n",
       "      <td>usa</td>\n",
       "      <td>5</td>\n",
       "    </tr>\n",
       "    <tr>\n",
       "      <th>383814</th>\n",
       "      <td>276704</td>\n",
       "      <td>1563526298</td>\n",
       "      <td>Get Clark Smart : The Ultimate Guide for the S...</td>\n",
       "      <td>Clark Howard</td>\n",
       "      <td>Longstreet Press</td>\n",
       "      <td>2000.0</td>\n",
       "      <td>usa</td>\n",
       "      <td>9</td>\n",
       "    </tr>\n",
       "    <tr>\n",
       "      <th>383815</th>\n",
       "      <td>276709</td>\n",
       "      <td>0515107662</td>\n",
       "      <td>The Sherbrooke Bride (Bride Trilogy (Paperback))</td>\n",
       "      <td>Catherine Coulter</td>\n",
       "      <td>Jove Books</td>\n",
       "      <td>1996.0</td>\n",
       "      <td>usa</td>\n",
       "      <td>10</td>\n",
       "    </tr>\n",
       "    <tr>\n",
       "      <th>383816</th>\n",
       "      <td>276721</td>\n",
       "      <td>0590442449</td>\n",
       "      <td>Fourth Grade Rats</td>\n",
       "      <td>Jerry Spinelli</td>\n",
       "      <td>Scholastic</td>\n",
       "      <td>1996.0</td>\n",
       "      <td>usa</td>\n",
       "      <td>10</td>\n",
       "    </tr>\n",
       "  </tbody>\n",
       "</table>\n",
       "<p>378028 rows × 8 columns</p>\n",
       "</div>"
      ],
      "text/plain": [
       "        user_id        isbn  \\\n",
       "0        276726  0155061224   \n",
       "1        276729  052165615X   \n",
       "2        276729  0521795028   \n",
       "3        276744  038550120X   \n",
       "4        276747  0060517794   \n",
       "...         ...         ...   \n",
       "383812   276704  0743211383   \n",
       "383813   276704  0806917695   \n",
       "383814   276704  1563526298   \n",
       "383815   276709  0515107662   \n",
       "383816   276721  0590442449   \n",
       "\n",
       "                                               book_title        book_author  \\\n",
       "0                                        Rites of Passage         Judith Rae   \n",
       "1                                          Help!: Level 1      Philip Prowse   \n",
       "2       The Amsterdam Connection : Level 4 (Cambridge ...        Sue Leather   \n",
       "3                                         A Painted House       JOHN GRISHAM   \n",
       "4                                Little Altars Everywhere      Rebecca Wells   \n",
       "...                                                   ...                ...   \n",
       "383812                                       Dreamcatcher       Stephen King   \n",
       "383813  Perplexing Lateral Thinking Puzzles: Scholasti...        Paul Sloane   \n",
       "383814  Get Clark Smart : The Ultimate Guide for the S...       Clark Howard   \n",
       "383815   The Sherbrooke Bride (Bride Trilogy (Paperback))  Catherine Coulter   \n",
       "383816                                  Fourth Grade Rats     Jerry Spinelli   \n",
       "\n",
       "                         publisher  year_of_publication location  book_rating  \n",
       "0                           Heinle               2001.0      usa            5  \n",
       "1       Cambridge University Press               1999.0  croatia            3  \n",
       "2       Cambridge University Press               2001.0  croatia            6  \n",
       "3                        Doubleday               2001.0      usa            7  \n",
       "4                      HarperTorch               2003.0      usa            9  \n",
       "...                            ...                  ...      ...          ...  \n",
       "383812                    Scribner               2001.0      usa            7  \n",
       "383813         Sterling Publishing               1997.0      usa            5  \n",
       "383814            Longstreet Press               2000.0      usa            9  \n",
       "383815                  Jove Books               1996.0      usa           10  \n",
       "383816                  Scholastic               1996.0      usa           10  \n",
       "\n",
       "[378028 rows x 8 columns]"
      ]
     },
     "execution_count": 23,
     "metadata": {},
     "output_type": "execute_result"
    }
   ],
   "source": [
    "df_all"
   ]
  },
  {
   "cell_type": "code",
   "execution_count": 24,
   "id": "2c5ae401",
   "metadata": {},
   "outputs": [],
   "source": [
    "df_all = df_all[:10000]"
   ]
  },
  {
   "cell_type": "code",
   "execution_count": 25,
   "id": "6b618717",
   "metadata": {},
   "outputs": [
    {
     "data": {
      "text/html": [
       "<div>\n",
       "<style scoped>\n",
       "    .dataframe tbody tr th:only-of-type {\n",
       "        vertical-align: middle;\n",
       "    }\n",
       "\n",
       "    .dataframe tbody tr th {\n",
       "        vertical-align: top;\n",
       "    }\n",
       "\n",
       "    .dataframe thead th {\n",
       "        text-align: right;\n",
       "    }\n",
       "</style>\n",
       "<table border=\"1\" class=\"dataframe\">\n",
       "  <thead>\n",
       "    <tr style=\"text-align: right;\">\n",
       "      <th></th>\n",
       "      <th>user_id</th>\n",
       "      <th>isbn</th>\n",
       "      <th>book_title</th>\n",
       "      <th>book_author</th>\n",
       "      <th>publisher</th>\n",
       "      <th>year_of_publication</th>\n",
       "      <th>location</th>\n",
       "      <th>book_rating</th>\n",
       "    </tr>\n",
       "  </thead>\n",
       "  <tbody>\n",
       "    <tr>\n",
       "      <th>7775</th>\n",
       "      <td>5517</td>\n",
       "      <td>0595175686</td>\n",
       "      <td>The Bridge</td>\n",
       "      <td>Michael Darkow</td>\n",
       "      <td>Authors Choice Press</td>\n",
       "      <td>2001.0</td>\n",
       "      <td>usa</td>\n",
       "      <td>10</td>\n",
       "    </tr>\n",
       "    <tr>\n",
       "      <th>6190</th>\n",
       "      <td>3827</td>\n",
       "      <td>0007134495</td>\n",
       "      <td>Parzival and the Stone from Heaven: A Grail Ro...</td>\n",
       "      <td>Lindsay Clarke</td>\n",
       "      <td>Thorsons Publishers</td>\n",
       "      <td>2002.0</td>\n",
       "      <td>usa</td>\n",
       "      <td>7</td>\n",
       "    </tr>\n",
       "    <tr>\n",
       "      <th>1129</th>\n",
       "      <td>277945</td>\n",
       "      <td>0312980353</td>\n",
       "      <td>Circle of Stars</td>\n",
       "      <td>Anna Lee Waldo</td>\n",
       "      <td>St. Martin's Paperbacks</td>\n",
       "      <td>2002.0</td>\n",
       "      <td>usa</td>\n",
       "      <td>8</td>\n",
       "    </tr>\n",
       "    <tr>\n",
       "      <th>5552</th>\n",
       "      <td>3346</td>\n",
       "      <td>0836204387</td>\n",
       "      <td>The Calvin and Hobbes Tenth Anniversary Book</td>\n",
       "      <td>Bill Watterson</td>\n",
       "      <td>Andrews McMeel Publishing</td>\n",
       "      <td>1995.0</td>\n",
       "      <td>iran</td>\n",
       "      <td>9</td>\n",
       "    </tr>\n",
       "    <tr>\n",
       "      <th>6843</th>\n",
       "      <td>4343</td>\n",
       "      <td>1852428112</td>\n",
       "      <td>The Sexual Life of Catherine M.</td>\n",
       "      <td>Catherine Millet</td>\n",
       "      <td>Consortium Book Sales &amp;amp; Dist</td>\n",
       "      <td>2002.0</td>\n",
       "      <td>japan</td>\n",
       "      <td>5</td>\n",
       "    </tr>\n",
       "    <tr>\n",
       "      <th>8912</th>\n",
       "      <td>6323</td>\n",
       "      <td>0553285343</td>\n",
       "      <td>RUSSIA HOUSE, THE</td>\n",
       "      <td>JOHN LE CARRE</td>\n",
       "      <td>Bantam</td>\n",
       "      <td>1990.0</td>\n",
       "      <td>usa</td>\n",
       "      <td>9</td>\n",
       "    </tr>\n",
       "    <tr>\n",
       "      <th>4833</th>\n",
       "      <td>2414</td>\n",
       "      <td>0451176723</td>\n",
       "      <td>Mitigating Circumstances</td>\n",
       "      <td>Nancy Taylor Rosenberg</td>\n",
       "      <td>Signet Book</td>\n",
       "      <td>1993.0</td>\n",
       "      <td>australia</td>\n",
       "      <td>5</td>\n",
       "    </tr>\n",
       "    <tr>\n",
       "      <th>6788</th>\n",
       "      <td>4225</td>\n",
       "      <td>1573229326</td>\n",
       "      <td>How to Be Good</td>\n",
       "      <td>Nick Hornby</td>\n",
       "      <td>Riverhead Books</td>\n",
       "      <td>2002.0</td>\n",
       "      <td>canada</td>\n",
       "      <td>5</td>\n",
       "    </tr>\n",
       "    <tr>\n",
       "      <th>2460</th>\n",
       "      <td>499</td>\n",
       "      <td>0743412621</td>\n",
       "      <td>The Second Time Around : A Novel</td>\n",
       "      <td>Mary Higgins Clark</td>\n",
       "      <td>Pocket</td>\n",
       "      <td>2004.0</td>\n",
       "      <td>usa</td>\n",
       "      <td>10</td>\n",
       "    </tr>\n",
       "    <tr>\n",
       "      <th>2042</th>\n",
       "      <td>278798</td>\n",
       "      <td>0786868015</td>\n",
       "      <td>The Diary of Ellen Rimbauer: My Life at Rose Red</td>\n",
       "      <td>Joyce Reardon</td>\n",
       "      <td>Hyperion</td>\n",
       "      <td>2001.0</td>\n",
       "      <td>usa</td>\n",
       "      <td>7</td>\n",
       "    </tr>\n",
       "  </tbody>\n",
       "</table>\n",
       "</div>"
      ],
      "text/plain": [
       "      user_id        isbn                                         book_title  \\\n",
       "7775     5517  0595175686                                         The Bridge   \n",
       "6190     3827  0007134495  Parzival and the Stone from Heaven: A Grail Ro...   \n",
       "1129   277945  0312980353                                    Circle of Stars   \n",
       "5552     3346  0836204387       The Calvin and Hobbes Tenth Anniversary Book   \n",
       "6843     4343  1852428112                    The Sexual Life of Catherine M.   \n",
       "8912     6323  0553285343                                  RUSSIA HOUSE, THE   \n",
       "4833     2414  0451176723                           Mitigating Circumstances   \n",
       "6788     4225  1573229326                                     How to Be Good   \n",
       "2460      499  0743412621                   The Second Time Around : A Novel   \n",
       "2042   278798  0786868015   The Diary of Ellen Rimbauer: My Life at Rose Red   \n",
       "\n",
       "                 book_author                         publisher  \\\n",
       "7775          Michael Darkow              Authors Choice Press   \n",
       "6190          Lindsay Clarke               Thorsons Publishers   \n",
       "1129          Anna Lee Waldo           St. Martin's Paperbacks   \n",
       "5552          Bill Watterson         Andrews McMeel Publishing   \n",
       "6843        Catherine Millet  Consortium Book Sales &amp; Dist   \n",
       "8912           JOHN LE CARRE                            Bantam   \n",
       "4833  Nancy Taylor Rosenberg                       Signet Book   \n",
       "6788             Nick Hornby                   Riverhead Books   \n",
       "2460      Mary Higgins Clark                            Pocket   \n",
       "2042           Joyce Reardon                          Hyperion   \n",
       "\n",
       "      year_of_publication   location  book_rating  \n",
       "7775               2001.0        usa           10  \n",
       "6190               2002.0        usa            7  \n",
       "1129               2002.0        usa            8  \n",
       "5552               1995.0       iran            9  \n",
       "6843               2002.0      japan            5  \n",
       "8912               1990.0        usa            9  \n",
       "4833               1993.0  australia            5  \n",
       "6788               2002.0     canada            5  \n",
       "2460               2004.0        usa           10  \n",
       "2042               2001.0        usa            7  "
      ]
     },
     "execution_count": 25,
     "metadata": {},
     "output_type": "execute_result"
    }
   ],
   "source": [
    "df_all.sample(10)"
   ]
  },
  {
   "cell_type": "code",
   "execution_count": 26,
   "id": "26b4a8ba",
   "metadata": {},
   "outputs": [
    {
     "name": "stdout",
     "output_type": "stream",
     "text": [
      "<class 'pandas.core.frame.DataFrame'>\n",
      "Index: 10000 entries, 0 to 10164\n",
      "Data columns (total 8 columns):\n",
      " #   Column               Non-Null Count  Dtype  \n",
      "---  ------               --------------  -----  \n",
      " 0   user_id              10000 non-null  int64  \n",
      " 1   isbn                 10000 non-null  object \n",
      " 2   book_title           10000 non-null  object \n",
      " 3   book_author          10000 non-null  object \n",
      " 4   publisher            10000 non-null  object \n",
      " 5   year_of_publication  10000 non-null  float64\n",
      " 6   location             10000 non-null  object \n",
      " 7   book_rating          10000 non-null  int64  \n",
      "dtypes: float64(1), int64(2), object(5)\n",
      "memory usage: 703.1+ KB\n"
     ]
    }
   ],
   "source": [
    "df_all.info()"
   ]
  },
  {
   "cell_type": "markdown",
   "id": "d1645501",
   "metadata": {},
   "source": [
    "**Insight**\n",
    "\n",
    "Agar nama kolom menjadi lebih seragam dan sesuai dengan konvensi penulisan Python (menggunakan lowercase dan underscore), maka dilakukan pengubahan nama kolom. Pengubahan ini sangat penting untuk meningkatkan keterbacaan dan konsistensi penamaan kolom dalam proses analisis berikutnya. Penamaan yang rapi akan mempermudah dalam pemanggilan kolom menggunakan kode dan meminimalkan kesalahan penulisan variabel. \n",
    "\n",
    "Dataset yang dimiliki sekarang memiliki jumlah data yang sangat besar dan berpotensi membuat proses analisis dan pelatihan model menjadi lambat. Oleh karena itu, untuk keperluan eksperimen awal dan efisiensi komputasi, dataset ini dipotong menjadi 10.000 baris pertama. Pembatasan ini tidak memengaruhi validitas analisis selama distribusi data yang diambil tetap representatif. Nantinya, jika dibutuhkan, jumlah data dapat ditambah secara bertahap untuk meningkatkan akurasi sistem rekomendasi."
   ]
  },
  {
   "cell_type": "markdown",
   "id": "bc04886e",
   "metadata": {},
   "source": [
    "### TF-IDF"
   ]
  },
  {
   "cell_type": "code",
   "execution_count": 27,
   "id": "d6975e59",
   "metadata": {},
   "outputs": [
    {
     "name": "stderr",
     "output_type": "stream",
     "text": [
      "C:\\Users\\M Ilham Ramadhan\\AppData\\Local\\Temp\\ipykernel_6396\\699463358.py:2: SettingWithCopyWarning: \n",
      "A value is trying to be set on a copy of a slice from a DataFrame.\n",
      "Try using .loc[row_indexer,col_indexer] = value instead\n",
      "\n",
      "See the caveats in the documentation: https://pandas.pydata.org/pandas-docs/stable/user_guide/indexing.html#returning-a-view-versus-a-copy\n",
      "  df_all['content'] = (\n"
     ]
    }
   ],
   "source": [
    "# Menggabungkan kolom untuk representasi teks\n",
    "df_all['content'] = (\n",
    "    df_all['book_title'].astype(str) + ' ' +\n",
    "    df_all['book_author'].astype(str)\n",
    ")"
   ]
  },
  {
   "cell_type": "code",
   "execution_count": 28,
   "id": "cac99613",
   "metadata": {},
   "outputs": [
    {
     "data": {
      "text/plain": [
       "matrix([[0., 0., 0., ..., 0., 0., 0.],\n",
       "        [0., 0., 0., ..., 0., 0., 0.],\n",
       "        [0., 0., 0., ..., 0., 0., 0.],\n",
       "        ...,\n",
       "        [0., 0., 0., ..., 0., 0., 0.],\n",
       "        [0., 0., 0., ..., 0., 0., 0.],\n",
       "        [0., 0., 0., ..., 0., 0., 0.]])"
      ]
     },
     "execution_count": 28,
     "metadata": {},
     "output_type": "execute_result"
    }
   ],
   "source": [
    "# Melakukan TF-IDF pada kolom 'content'\n",
    "tfidf = TfidfVectorizer(stop_words='english')\n",
    "tfidf_matrix = tfidf.fit_transform(df_all['content'])\n",
    "tfidf_matrix.shape\n",
    "\n",
    "tfidf_matrix.todense()"
   ]
  },
  {
   "cell_type": "code",
   "execution_count": 29,
   "id": "4715d423",
   "metadata": {},
   "outputs": [
    {
     "data": {
      "text/html": [
       "<div>\n",
       "<style scoped>\n",
       "    .dataframe tbody tr th:only-of-type {\n",
       "        vertical-align: middle;\n",
       "    }\n",
       "\n",
       "    .dataframe tbody tr th {\n",
       "        vertical-align: top;\n",
       "    }\n",
       "\n",
       "    .dataframe thead th {\n",
       "        text-align: right;\n",
       "    }\n",
       "</style>\n",
       "<table border=\"1\" class=\"dataframe\">\n",
       "  <thead>\n",
       "    <tr style=\"text-align: right;\">\n",
       "      <th></th>\n",
       "      <th>rites</th>\n",
       "      <th>passage</th>\n",
       "      <th>judith</th>\n",
       "      <th>rae</th>\n",
       "      <th>help</th>\n",
       "      <th>level</th>\n",
       "      <th>philip</th>\n",
       "      <th>prowse</th>\n",
       "      <th>amsterdam</th>\n",
       "      <th>connection</th>\n",
       "      <th>...</th>\n",
       "      <th>manors</th>\n",
       "      <th>blouse</th>\n",
       "      <th>certainty</th>\n",
       "      <th>connors</th>\n",
       "      <th>yonder</th>\n",
       "      <th>pity</th>\n",
       "      <th>killers</th>\n",
       "      <th>glance</th>\n",
       "      <th>cawthorne</th>\n",
       "      <th>sunburned</th>\n",
       "    </tr>\n",
       "    <tr>\n",
       "      <th>book_title</th>\n",
       "      <th></th>\n",
       "      <th></th>\n",
       "      <th></th>\n",
       "      <th></th>\n",
       "      <th></th>\n",
       "      <th></th>\n",
       "      <th></th>\n",
       "      <th></th>\n",
       "      <th></th>\n",
       "      <th></th>\n",
       "      <th></th>\n",
       "      <th></th>\n",
       "      <th></th>\n",
       "      <th></th>\n",
       "      <th></th>\n",
       "      <th></th>\n",
       "      <th></th>\n",
       "      <th></th>\n",
       "      <th></th>\n",
       "      <th></th>\n",
       "      <th></th>\n",
       "    </tr>\n",
       "  </thead>\n",
       "  <tbody>\n",
       "    <tr>\n",
       "      <th>Lucy's Treasure</th>\n",
       "      <td>0.0</td>\n",
       "      <td>0.0</td>\n",
       "      <td>0.0</td>\n",
       "      <td>0.0</td>\n",
       "      <td>0.0</td>\n",
       "      <td>0.0</td>\n",
       "      <td>0.0</td>\n",
       "      <td>0.0</td>\n",
       "      <td>0.0</td>\n",
       "      <td>0.0</td>\n",
       "      <td>...</td>\n",
       "      <td>0.0</td>\n",
       "      <td>0.0</td>\n",
       "      <td>0.0</td>\n",
       "      <td>0.0</td>\n",
       "      <td>0.0</td>\n",
       "      <td>0.0</td>\n",
       "      <td>0.0</td>\n",
       "      <td>0.0</td>\n",
       "      <td>0.0</td>\n",
       "      <td>0.0</td>\n",
       "    </tr>\n",
       "    <tr>\n",
       "      <th>Professional Photoshop: Color Correction, Retouching, and Image Manipulation With Adobe Photoshop</th>\n",
       "      <td>0.0</td>\n",
       "      <td>0.0</td>\n",
       "      <td>0.0</td>\n",
       "      <td>0.0</td>\n",
       "      <td>0.0</td>\n",
       "      <td>0.0</td>\n",
       "      <td>0.0</td>\n",
       "      <td>0.0</td>\n",
       "      <td>0.0</td>\n",
       "      <td>0.0</td>\n",
       "      <td>...</td>\n",
       "      <td>0.0</td>\n",
       "      <td>0.0</td>\n",
       "      <td>0.0</td>\n",
       "      <td>0.0</td>\n",
       "      <td>0.0</td>\n",
       "      <td>0.0</td>\n",
       "      <td>0.0</td>\n",
       "      <td>0.0</td>\n",
       "      <td>0.0</td>\n",
       "      <td>0.0</td>\n",
       "    </tr>\n",
       "    <tr>\n",
       "      <th>Holes</th>\n",
       "      <td>0.0</td>\n",
       "      <td>0.0</td>\n",
       "      <td>0.0</td>\n",
       "      <td>0.0</td>\n",
       "      <td>0.0</td>\n",
       "      <td>0.0</td>\n",
       "      <td>0.0</td>\n",
       "      <td>0.0</td>\n",
       "      <td>0.0</td>\n",
       "      <td>0.0</td>\n",
       "      <td>...</td>\n",
       "      <td>0.0</td>\n",
       "      <td>0.0</td>\n",
       "      <td>0.0</td>\n",
       "      <td>0.0</td>\n",
       "      <td>0.0</td>\n",
       "      <td>0.0</td>\n",
       "      <td>0.0</td>\n",
       "      <td>0.0</td>\n",
       "      <td>0.0</td>\n",
       "      <td>0.0</td>\n",
       "    </tr>\n",
       "    <tr>\n",
       "      <th>My Antonia (Dover Thrift Editions)</th>\n",
       "      <td>0.0</td>\n",
       "      <td>0.0</td>\n",
       "      <td>0.0</td>\n",
       "      <td>0.0</td>\n",
       "      <td>0.0</td>\n",
       "      <td>0.0</td>\n",
       "      <td>0.0</td>\n",
       "      <td>0.0</td>\n",
       "      <td>0.0</td>\n",
       "      <td>0.0</td>\n",
       "      <td>...</td>\n",
       "      <td>0.0</td>\n",
       "      <td>0.0</td>\n",
       "      <td>0.0</td>\n",
       "      <td>0.0</td>\n",
       "      <td>0.0</td>\n",
       "      <td>0.0</td>\n",
       "      <td>0.0</td>\n",
       "      <td>0.0</td>\n",
       "      <td>0.0</td>\n",
       "      <td>0.0</td>\n",
       "    </tr>\n",
       "    <tr>\n",
       "      <th>The Cardinal of the Kremlin (Jack Ryan Novels)</th>\n",
       "      <td>0.0</td>\n",
       "      <td>0.0</td>\n",
       "      <td>0.0</td>\n",
       "      <td>0.0</td>\n",
       "      <td>0.0</td>\n",
       "      <td>0.0</td>\n",
       "      <td>0.0</td>\n",
       "      <td>0.0</td>\n",
       "      <td>0.0</td>\n",
       "      <td>0.0</td>\n",
       "      <td>...</td>\n",
       "      <td>0.0</td>\n",
       "      <td>0.0</td>\n",
       "      <td>0.0</td>\n",
       "      <td>0.0</td>\n",
       "      <td>0.0</td>\n",
       "      <td>0.0</td>\n",
       "      <td>0.0</td>\n",
       "      <td>0.0</td>\n",
       "      <td>0.0</td>\n",
       "      <td>0.0</td>\n",
       "    </tr>\n",
       "  </tbody>\n",
       "</table>\n",
       "<p>5 rows × 14110 columns</p>\n",
       "</div>"
      ],
      "text/plain": [
       "                                                    rites  passage  judith  \\\n",
       "book_title                                                                   \n",
       "Lucy's Treasure                                       0.0      0.0     0.0   \n",
       "Professional Photoshop: Color Correction, Retou...    0.0      0.0     0.0   \n",
       "Holes                                                 0.0      0.0     0.0   \n",
       "My Antonia (Dover Thrift Editions)                    0.0      0.0     0.0   \n",
       "The Cardinal of the Kremlin (Jack Ryan Novels)        0.0      0.0     0.0   \n",
       "\n",
       "                                                    rae  help  level  philip  \\\n",
       "book_title                                                                     \n",
       "Lucy's Treasure                                     0.0   0.0    0.0     0.0   \n",
       "Professional Photoshop: Color Correction, Retou...  0.0   0.0    0.0     0.0   \n",
       "Holes                                               0.0   0.0    0.0     0.0   \n",
       "My Antonia (Dover Thrift Editions)                  0.0   0.0    0.0     0.0   \n",
       "The Cardinal of the Kremlin (Jack Ryan Novels)      0.0   0.0    0.0     0.0   \n",
       "\n",
       "                                                    prowse  amsterdam  \\\n",
       "book_title                                                              \n",
       "Lucy's Treasure                                        0.0        0.0   \n",
       "Professional Photoshop: Color Correction, Retou...     0.0        0.0   \n",
       "Holes                                                  0.0        0.0   \n",
       "My Antonia (Dover Thrift Editions)                     0.0        0.0   \n",
       "The Cardinal of the Kremlin (Jack Ryan Novels)         0.0        0.0   \n",
       "\n",
       "                                                    connection  ...  manors  \\\n",
       "book_title                                                      ...           \n",
       "Lucy's Treasure                                            0.0  ...     0.0   \n",
       "Professional Photoshop: Color Correction, Retou...         0.0  ...     0.0   \n",
       "Holes                                                      0.0  ...     0.0   \n",
       "My Antonia (Dover Thrift Editions)                         0.0  ...     0.0   \n",
       "The Cardinal of the Kremlin (Jack Ryan Novels)             0.0  ...     0.0   \n",
       "\n",
       "                                                    blouse  certainty  \\\n",
       "book_title                                                              \n",
       "Lucy's Treasure                                        0.0        0.0   \n",
       "Professional Photoshop: Color Correction, Retou...     0.0        0.0   \n",
       "Holes                                                  0.0        0.0   \n",
       "My Antonia (Dover Thrift Editions)                     0.0        0.0   \n",
       "The Cardinal of the Kremlin (Jack Ryan Novels)         0.0        0.0   \n",
       "\n",
       "                                                    connors  yonder  pity  \\\n",
       "book_title                                                                  \n",
       "Lucy's Treasure                                         0.0     0.0   0.0   \n",
       "Professional Photoshop: Color Correction, Retou...      0.0     0.0   0.0   \n",
       "Holes                                                   0.0     0.0   0.0   \n",
       "My Antonia (Dover Thrift Editions)                      0.0     0.0   0.0   \n",
       "The Cardinal of the Kremlin (Jack Ryan Novels)          0.0     0.0   0.0   \n",
       "\n",
       "                                                    killers  glance  \\\n",
       "book_title                                                            \n",
       "Lucy's Treasure                                         0.0     0.0   \n",
       "Professional Photoshop: Color Correction, Retou...      0.0     0.0   \n",
       "Holes                                                   0.0     0.0   \n",
       "My Antonia (Dover Thrift Editions)                      0.0     0.0   \n",
       "The Cardinal of the Kremlin (Jack Ryan Novels)          0.0     0.0   \n",
       "\n",
       "                                                    cawthorne  sunburned  \n",
       "book_title                                                                \n",
       "Lucy's Treasure                                           0.0        0.0  \n",
       "Professional Photoshop: Color Correction, Retou...        0.0        0.0  \n",
       "Holes                                                     0.0        0.0  \n",
       "My Antonia (Dover Thrift Editions)                        0.0        0.0  \n",
       "The Cardinal of the Kremlin (Jack Ryan Novels)            0.0        0.0  \n",
       "\n",
       "[5 rows x 14110 columns]"
      ]
     },
     "execution_count": 29,
     "metadata": {},
     "output_type": "execute_result"
    }
   ],
   "source": [
    "# Mengubah matriks TF-IDF menjadi dataframe\n",
    "pd.DataFrame(\n",
    "    tfidf_matrix.todense(),\n",
    "    columns=list(tfidf.vocabulary_.keys()),\n",
    "    index = df_all.book_title\n",
    ").sample(5)"
   ]
  },
  {
   "cell_type": "markdown",
   "id": "8e1d0f02",
   "metadata": {},
   "source": [
    "**Insight**\n",
    "\n",
    "Langkah pertama adalah membangun fitur teks yang mewakili isi atau deskripsi dari sebuah buku. Fitur ini dibentuk dari gabungan beberapa kolom yaitu `book_title` dan `book_author`. Hasil dari kolom `content` adalah representasi teks dari setiap buku yang akan digunakan untuk mengukur kemiripan satu sama lain. \n",
    "\n",
    "Setelah kolom `content` dibuat, langkah selanjutnya adalah mengubah teks menjadi representasi numerik menggunakan TF-IDF (Term Frequency-Inverse Document Frequency). \n",
    "\n",
    "Berikut adalah penjelasan kode transformasi dengan TF-IDF tersebut.\n",
    "\n",
    "- `TfidfVectorizer` mengubah teks menjadi matriks angka berbasis frekuensi kata yang distandarisasi.\n",
    "\n",
    "- Parameter `stop_words='english'` berguna untuk mengabaikan kata-kata umum (seperti \"and\", \"the\", dll).\n",
    "\n",
    "- `tfidf_matrix.shape` menunjukkan dimensi dari hasil transformasi. Pada data tersebut didapatkan shape (10000, 14137) yang berarti ada 10.000 buku dan 14.137 kata unik (fitur).\n",
    "\n",
    "Langkah selanjutnya adalah membentuk tabel yang menunjukkan nilai bobot TF-IDF untuk beberapa judul buku terhadap kata-kata tertentu. Nilai yang lebih tinggi menunjukkan kata tersebut lebih relevan untuk buku tersebut."
   ]
  },
  {
   "cell_type": "markdown",
   "id": "13984526",
   "metadata": {},
   "source": [
    "### Encoding dan Data Splitting"
   ]
  },
  {
   "cell_type": "code",
   "execution_count": 33,
   "id": "200969f2",
   "metadata": {},
   "outputs": [],
   "source": [
    "# Mengambil ID unik pengguna dan buku\n",
    "user_ids = df_all['user_id'].unique().tolist()\n",
    "isbn_ids = df_all['isbn'].unique().tolist()"
   ]
  },
  {
   "cell_type": "code",
   "execution_count": 34,
   "id": "2abf3ffc",
   "metadata": {},
   "outputs": [],
   "source": [
    "# Encoding ID pengguna dan buku\n",
    "user_to_user_encoded = {x: i for i, x in enumerate(user_ids)}\n",
    "isbn_to_isbn_encoded = {x: i for i, x in enumerate(isbn_ids)}\n",
    "user_encoded_to_user = {i: x for x, i in user_to_user_encoded.items()}\n",
    "isbn_encoded_to_isbn = {i: x for x, i in isbn_to_isbn_encoded.items()}"
   ]
  },
  {
   "cell_type": "code",
   "execution_count": 35,
   "id": "ac3e37f6",
   "metadata": {},
   "outputs": [
    {
     "name": "stderr",
     "output_type": "stream",
     "text": [
      "C:\\Users\\M Ilham Ramadhan\\AppData\\Local\\Temp\\ipykernel_6396\\3082041156.py:2: SettingWithCopyWarning: \n",
      "A value is trying to be set on a copy of a slice from a DataFrame.\n",
      "Try using .loc[row_indexer,col_indexer] = value instead\n",
      "\n",
      "See the caveats in the documentation: https://pandas.pydata.org/pandas-docs/stable/user_guide/indexing.html#returning-a-view-versus-a-copy\n",
      "  df_all['user'] = df_all['user_id'].map(user_to_user_encoded)\n",
      "C:\\Users\\M Ilham Ramadhan\\AppData\\Local\\Temp\\ipykernel_6396\\3082041156.py:3: SettingWithCopyWarning: \n",
      "A value is trying to be set on a copy of a slice from a DataFrame.\n",
      "Try using .loc[row_indexer,col_indexer] = value instead\n",
      "\n",
      "See the caveats in the documentation: https://pandas.pydata.org/pandas-docs/stable/user_guide/indexing.html#returning-a-view-versus-a-copy\n",
      "  df_all['book'] = df_all['isbn'].map(isbn_to_isbn_encoded)\n"
     ]
    }
   ],
   "source": [
    "# Mapping encoding ke dataset utama\n",
    "df_all['user'] = df_all['user_id'].map(user_to_user_encoded)\n",
    "df_all['book'] = df_all['isbn'].map(isbn_to_isbn_encoded)"
   ]
  },
  {
   "cell_type": "code",
   "execution_count": 36,
   "id": "ce70f945",
   "metadata": {},
   "outputs": [
    {
     "name": "stderr",
     "output_type": "stream",
     "text": [
      "C:\\Users\\M Ilham Ramadhan\\AppData\\Local\\Temp\\ipykernel_6396\\3667994213.py:2: SettingWithCopyWarning: \n",
      "A value is trying to be set on a copy of a slice from a DataFrame.\n",
      "Try using .loc[row_indexer,col_indexer] = value instead\n",
      "\n",
      "See the caveats in the documentation: https://pandas.pydata.org/pandas-docs/stable/user_guide/indexing.html#returning-a-view-versus-a-copy\n",
      "  df_all['book_rating'] = df_all['book_rating'].values.astype(np.float32)\n"
     ]
    }
   ],
   "source": [
    "# Konversi dan normalisasi rating\n",
    "df_all['book_rating'] = df_all['book_rating'].values.astype(np.float32)\n",
    "\n",
    "min_rating = df_all['book_rating'].min()\n",
    "max_rating = df_all['book_rating'].max()\n",
    "\n",
    "df_all = df_all.sample(frac=1, random_state=42)\n",
    "x = df_all[['user', 'book']].values\n",
    "y = df_all['book_rating'].apply(lambda x: (x - min_rating) / (max_rating - min_rating)).values"
   ]
  },
  {
   "cell_type": "code",
   "execution_count": 37,
   "id": "e680af18",
   "metadata": {},
   "outputs": [],
   "source": [
    "# Data splitting\n",
    "train_indices = int(0.8 * df_all.shape[0])\n",
    "x_train, x_val, y_train, y_val = (\n",
    "    x[:train_indices],\n",
    "    x[train_indices:],\n",
    "    y[:train_indices],\n",
    "    y[train_indices:]\n",
    ")"
   ]
  },
  {
   "cell_type": "markdown",
   "id": "754da41c",
   "metadata": {},
   "source": [
    "**Insight**\n",
    "\n",
    "Sebelum membangun model Collaborative Learning, langkah-langkah pra-pemrosesan dilakukan untuk mengubah data mentah menjadi format numerik yang dapat digunakan dalam training.\n",
    "\n",
    "- Langkah pertama adalah mengekstrak semua ID unik dari kolom `user_id` dan `isbn`. \n",
    "\n",
    "- Setelah itu, ditemukan bahwa ID pengguna dan buku masih berbentuk string. Model deep learning membutuhkan input numerik, sehingga perlu dilakukan proses encoding dengan kode berikut. \n",
    "\n",
    "- Setelah mendapatkan mapping ID ke angka, kita terapkan hasil encoding tersebut ke dataset utama agar model dapat mengenali setiap entitas pengguna dan buku dalam bentuk numerik. \n",
    "\n",
    "- Langkah berikutnya adalah memastikan bahwa rating memiliki format numerik yang sesuai dan kemudian melakukan normalisasi ke skala 0–1. Setelah itu dilakukan konversi ke float32 memastikan efisiensi komputasi dan kompatibilitas dengan TensorFlow. Kemudian diambil nilai minimum dan maksimum dari rating, karena kita akan melakukan min-max normalization.\n",
    "\n",
    "- Langkah terakhir dalam persiapan data adalah membagi dataset menjadi dua bagian yaitu data pelatihan dan data validasi. Pembagian ini penting untuk mengevaluasi performa model terhadap data yang belum pernah dilihat sebelumnya. Dengan membagi data, kita bisa mengetahui apakah model benar-benar belajar dari data atau hanya sekadar menghafal (overfitting)."
   ]
  },
  {
   "cell_type": "markdown",
   "id": "2ef86d55",
   "metadata": {},
   "source": [
    "## **Content-Based Filtering**"
   ]
  },
  {
   "cell_type": "markdown",
   "id": "9dec8ea0",
   "metadata": {},
   "source": [
    "### Cosine Similarity"
   ]
  },
  {
   "cell_type": "code",
   "execution_count": 30,
   "id": "f72c1cfd",
   "metadata": {},
   "outputs": [
    {
     "name": "stdout",
     "output_type": "stream",
     "text": [
      "Shape :\n",
      " (10000, 10000)\n"
     ]
    }
   ],
   "source": [
    "# Menghitung kemiripan antar buku dengan Cosine Similarity\n",
    "cosine_sim = cosine_similarity(tfidf_matrix)\n",
    "cosine_sim_df = pd.DataFrame(cosine_sim, index=df_all['book_title'], columns=df_all['book_title'])\n",
    "\n",
    "print('Shape :\\n', cosine_sim_df.shape)"
   ]
  },
  {
   "cell_type": "markdown",
   "id": "6f6ab64f",
   "metadata": {},
   "source": [
    "**Insight**\n",
    "\n",
    "Setelah vektorisasi, dilakukan perhitungan kemiripan antar buku dengan Cosine Similarity, yaitu ukuran sudut antar vektor teks. Semakin kecil sudutnya (mendekati 1), semakin mirip dua buku tersebut.\n",
    "\n",
    "\n",
    "Dari kode yang telah diterapkan dapat dijelaskan bahwa variabel `cosine_sim` adalah matriks 2D (10000 x 10000) yang menunjukkan tingkat kemiripan antar semua kombinasi buku. Nilai dari diagonalnya pasti bernilai 1 karena setiap buku pasti mirip dengan dirinya sendiri. Sedangkan pembuatan `cosine_sim_df` mempermudah pencarian dan visualisasi skor kemiripan berdasarkan judul."
   ]
  },
  {
   "cell_type": "markdown",
   "id": "ae77e6a2",
   "metadata": {},
   "source": [
    "### Recommendation"
   ]
  },
  {
   "cell_type": "code",
   "execution_count": 31,
   "id": "3d9ad834",
   "metadata": {},
   "outputs": [],
   "source": [
    "# Membuat fungsi untuk mendapatkan rekomendasi buku\n",
    "def recommend_books_by_title(book_title, similarity_data=cosine_sim_df, book_data=df_all[['book_title', 'book_author', 'publisher', 'year_of_publication']], top_n=5):\n",
    "    if book_title not in similarity_data.columns:\n",
    "        return f\"Book '{book_title}' not found in similarity data.\"\n",
    "\n",
    "    similarity_scores = similarity_data[book_title].nlargest(20)\n",
    "    similarity_scores = similarity_scores.drop(book_title, errors='ignore')\n",
    "\n",
    "    result = pd.DataFrame({\n",
    "        'book_title': similarity_scores.index,\n",
    "        'similarity': similarity_scores.values\n",
    "    })\n",
    "\n",
    "    result = result.merge(book_data, on='book_title', how='left')\n",
    "    result = result.drop_duplicates(subset='book_title')\n",
    "\n",
    "    return result[['book_title', 'book_author', 'publisher', 'year_of_publication', 'similarity']].head(top_n)"
   ]
  },
  {
   "cell_type": "code",
   "execution_count": 32,
   "id": "b701557d",
   "metadata": {},
   "outputs": [
    {
     "data": {
      "text/html": [
       "<div>\n",
       "<style scoped>\n",
       "    .dataframe tbody tr th:only-of-type {\n",
       "        vertical-align: middle;\n",
       "    }\n",
       "\n",
       "    .dataframe tbody tr th {\n",
       "        vertical-align: top;\n",
       "    }\n",
       "\n",
       "    .dataframe thead th {\n",
       "        text-align: right;\n",
       "    }\n",
       "</style>\n",
       "<table border=\"1\" class=\"dataframe\">\n",
       "  <thead>\n",
       "    <tr style=\"text-align: right;\">\n",
       "      <th></th>\n",
       "      <th>book_title</th>\n",
       "      <th>book_author</th>\n",
       "      <th>publisher</th>\n",
       "      <th>year_of_publication</th>\n",
       "      <th>similarity</th>\n",
       "    </tr>\n",
       "  </thead>\n",
       "  <tbody>\n",
       "    <tr>\n",
       "      <th>0</th>\n",
       "      <td>The Racecar Monster (Scooby-Doo Picture Clue, 8)</td>\n",
       "      <td>Gail Herman</td>\n",
       "      <td>Scholastic</td>\n",
       "      <td>2001.0</td>\n",
       "      <td>0.626506</td>\n",
       "    </tr>\n",
       "    <tr>\n",
       "      <th>1</th>\n",
       "      <td>Zombie!</td>\n",
       "      <td>Peter Tremayne</td>\n",
       "      <td>St. Martin's Press</td>\n",
       "      <td>1987.0</td>\n",
       "      <td>0.190324</td>\n",
       "    </tr>\n",
       "    <tr>\n",
       "      <th>2</th>\n",
       "      <td>WINDS OF WAR</td>\n",
       "      <td>Herman Wouk</td>\n",
       "      <td>Pocket</td>\n",
       "      <td>1989.0</td>\n",
       "      <td>0.139092</td>\n",
       "    </tr>\n",
       "    <tr>\n",
       "      <th>3</th>\n",
       "      <td>Tested By Fire (Baxter Series)</td>\n",
       "      <td>Kathy Herman</td>\n",
       "      <td>Multnomah</td>\n",
       "      <td>2001.0</td>\n",
       "      <td>0.128505</td>\n",
       "    </tr>\n",
       "    <tr>\n",
       "      <th>4</th>\n",
       "      <td>Night of Many Dreams : A Novel</td>\n",
       "      <td>Gail Tsukiyama</td>\n",
       "      <td>St. Martin's Griffin</td>\n",
       "      <td>1998.0</td>\n",
       "      <td>0.123376</td>\n",
       "    </tr>\n",
       "  </tbody>\n",
       "</table>\n",
       "</div>"
      ],
      "text/plain": [
       "                                         book_title     book_author  \\\n",
       "0  The Racecar Monster (Scooby-Doo Picture Clue, 8)     Gail Herman   \n",
       "1                                           Zombie!  Peter Tremayne   \n",
       "2                                      WINDS OF WAR     Herman Wouk   \n",
       "3                    Tested By Fire (Baxter Series)    Kathy Herman   \n",
       "4                    Night of Many Dreams : A Novel  Gail Tsukiyama   \n",
       "\n",
       "              publisher  year_of_publication  similarity  \n",
       "0            Scholastic               2001.0    0.626506  \n",
       "1    St. Martin's Press               1987.0    0.190324  \n",
       "2                Pocket               1989.0    0.139092  \n",
       "3             Multnomah               2001.0    0.128505  \n",
       "4  St. Martin's Griffin               1998.0    0.123376  "
      ]
     },
     "execution_count": 32,
     "metadata": {},
     "output_type": "execute_result"
    }
   ],
   "source": [
    "# Mencari rekomendasi buku berdasarkan judul buku tertentu\n",
    "recommend_books_by_title('Scooby-Doo on Zombie Island (Scooby-Doo)')"
   ]
  },
  {
   "cell_type": "markdown",
   "id": "e27a1167",
   "metadata": {},
   "source": [
    "**Insight**\n",
    "\n",
    "`recommend_books_by_title()` menggunakan content-based filtering dengan menghitung kemiripan antar buku menggunakan TF-IDF dan cosine similarity. Buku yang direkomendasikan didasarkan pada kesamaan konten (judul, penulis, lokasi) dengan buku input. Berikut adalah contoh pengimplementasiannya mencari rekomendasi berdasarkan suatu buku.\n",
    "\n",
    "Dari contoh mencari rekomendasi buku berdasarkan buku \"Scooby-Doo on Zombie Island\", sistem merekomendasikan buku lain seperti \"The Racecar Monster\" dari seri Scooby-Doo dengan skor kemiripan tertinggi (0.627), serta buku bertema serupa seperti \"Zombie!\" dan \"WINDS OF WAR\". Rekomendasi ini membantu pengguna menemukan buku yang mirip secara konten."
   ]
  },
  {
   "cell_type": "markdown",
   "id": "3816c096",
   "metadata": {},
   "source": [
    "## **Collaborative Filtering**"
   ]
  },
  {
   "cell_type": "markdown",
   "id": "86fcb986",
   "metadata": {},
   "source": [
    "### RecommenderNet"
   ]
  },
  {
   "cell_type": "code",
   "execution_count": 38,
   "id": "d1f9370e",
   "metadata": {},
   "outputs": [],
   "source": [
    "class RecommenderNet(tf.keras.Model):\n",
    "    def __init__(self, num_users, num_books, embedding_size, **kwargs):\n",
    "        super(RecommenderNet, self).__init__(**kwargs)\n",
    "        self.user_embedding = layers.Embedding(num_users, embedding_size, embeddings_initializer='he_normal', embeddings_regularizer=keras.regularizers.l2(1e-6))\n",
    "        self.user_bias = layers.Embedding(num_users, 1)\n",
    "        self.book_embedding = layers.Embedding(num_books, embedding_size, embeddings_initializer='he_normal', embeddings_regularizer=keras.regularizers.l2(1e-6))\n",
    "        self.book_bias = layers.Embedding(num_books, 1)\n",
    "\n",
    "    def call(self, inputs):\n",
    "        user_vector = self.user_embedding(inputs[:, 0])\n",
    "        user_bias = self.user_bias(inputs[:, 0])\n",
    "        book_vector = self.book_embedding(inputs[:, 1])\n",
    "        book_bias = self.book_bias(inputs[:, 1])\n",
    "\n",
    "        dot_user_book = tf.tensordot(user_vector, book_vector, 2)\n",
    "        x = dot_user_book + user_bias + book_bias\n",
    "\n",
    "        return tf.nn.sigmoid(x)"
   ]
  },
  {
   "cell_type": "code",
   "execution_count": 39,
   "id": "8c18f8ef",
   "metadata": {},
   "outputs": [],
   "source": [
    "num_users = len(user_to_user_encoded)\n",
    "num_books = len(isbn_to_isbn_encoded)"
   ]
  },
  {
   "cell_type": "code",
   "execution_count": 40,
   "id": "eb1b3a2d",
   "metadata": {},
   "outputs": [],
   "source": [
    "model = RecommenderNet(num_users, num_books, embedding_size=50)\n",
    "\n",
    "model.compile(\n",
    "    loss = tf.keras.losses.BinaryCrossentropy(),\n",
    "    optimizer = keras.optimizers.Adam(learning_rate=0.001),\n",
    "    metrics=[tf.keras.metrics.RootMeanSquaredError()]\n",
    ")"
   ]
  },
  {
   "cell_type": "code",
   "execution_count": 41,
   "id": "c960f4f9",
   "metadata": {},
   "outputs": [
    {
     "name": "stdout",
     "output_type": "stream",
     "text": [
      "Epoch 1/20\n",
      "\u001b[1m500/500\u001b[0m \u001b[32m━━━━━━━━━━━━━━━━━━━━\u001b[0m\u001b[37m\u001b[0m \u001b[1m3s\u001b[0m 4ms/step - loss: 0.6876 - root_mean_squared_error: 0.3129 - val_loss: 0.6718 - val_root_mean_squared_error: 0.2972\n",
      "Epoch 2/20\n",
      "\u001b[1m500/500\u001b[0m \u001b[32m━━━━━━━━━━━━━━━━━━━━\u001b[0m\u001b[37m\u001b[0m \u001b[1m2s\u001b[0m 3ms/step - loss: 0.5954 - root_mean_squared_error: 0.2313 - val_loss: 0.6620 - val_root_mean_squared_error: 0.2887\n",
      "Epoch 3/20\n",
      "\u001b[1m500/500\u001b[0m \u001b[32m━━━━━━━━━━━━━━━━━━━━\u001b[0m\u001b[37m\u001b[0m \u001b[1m2s\u001b[0m 3ms/step - loss: 0.5671 - root_mean_squared_error: 0.2047 - val_loss: 0.6620 - val_root_mean_squared_error: 0.2888\n",
      "Epoch 4/20\n",
      "\u001b[1m500/500\u001b[0m \u001b[32m━━━━━━━━━━━━━━━━━━━━\u001b[0m\u001b[37m\u001b[0m \u001b[1m2s\u001b[0m 3ms/step - loss: 0.5523 - root_mean_squared_error: 0.1873 - val_loss: 0.6576 - val_root_mean_squared_error: 0.2850\n",
      "Epoch 5/20\n",
      "\u001b[1m500/500\u001b[0m \u001b[32m━━━━━━━━━━━━━━━━━━━━\u001b[0m\u001b[37m\u001b[0m \u001b[1m2s\u001b[0m 4ms/step - loss: 0.5550 - root_mean_squared_error: 0.1874 - val_loss: 0.6556 - val_root_mean_squared_error: 0.2834\n",
      "Epoch 6/20\n",
      "\u001b[1m500/500\u001b[0m \u001b[32m━━━━━━━━━━━━━━━━━━━━\u001b[0m\u001b[37m\u001b[0m \u001b[1m2s\u001b[0m 4ms/step - loss: 0.5472 - root_mean_squared_error: 0.1828 - val_loss: 0.6516 - val_root_mean_squared_error: 0.2801\n",
      "Epoch 7/20\n",
      "\u001b[1m500/500\u001b[0m \u001b[32m━━━━━━━━━━━━━━━━━━━━\u001b[0m\u001b[37m\u001b[0m \u001b[1m3s\u001b[0m 5ms/step - loss: 0.5404 - root_mean_squared_error: 0.1763 - val_loss: 0.6495 - val_root_mean_squared_error: 0.2785\n",
      "Epoch 8/20\n",
      "\u001b[1m500/500\u001b[0m \u001b[32m━━━━━━━━━━━━━━━━━━━━\u001b[0m\u001b[37m\u001b[0m \u001b[1m2s\u001b[0m 4ms/step - loss: 0.5426 - root_mean_squared_error: 0.1758 - val_loss: 0.6466 - val_root_mean_squared_error: 0.2761\n",
      "Epoch 9/20\n",
      "\u001b[1m500/500\u001b[0m \u001b[32m━━━━━━━━━━━━━━━━━━━━\u001b[0m\u001b[37m\u001b[0m \u001b[1m2s\u001b[0m 4ms/step - loss: 0.5345 - root_mean_squared_error: 0.1693 - val_loss: 0.6441 - val_root_mean_squared_error: 0.2741\n",
      "Epoch 10/20\n",
      "\u001b[1m500/500\u001b[0m \u001b[32m━━━━━━━━━━━━━━━━━━━━\u001b[0m\u001b[37m\u001b[0m \u001b[1m2s\u001b[0m 4ms/step - loss: 0.5282 - root_mean_squared_error: 0.1649 - val_loss: 0.6424 - val_root_mean_squared_error: 0.2727\n",
      "Epoch 11/20\n",
      "\u001b[1m500/500\u001b[0m \u001b[32m━━━━━━━━━━━━━━━━━━━━\u001b[0m\u001b[37m\u001b[0m \u001b[1m2s\u001b[0m 4ms/step - loss: 0.5263 - root_mean_squared_error: 0.1623 - val_loss: 0.6407 - val_root_mean_squared_error: 0.2714\n",
      "Epoch 12/20\n",
      "\u001b[1m500/500\u001b[0m \u001b[32m━━━━━━━━━━━━━━━━━━━━\u001b[0m\u001b[37m\u001b[0m \u001b[1m2s\u001b[0m 4ms/step - loss: 0.5267 - root_mean_squared_error: 0.1608 - val_loss: 0.6395 - val_root_mean_squared_error: 0.2705\n",
      "Epoch 13/20\n",
      "\u001b[1m500/500\u001b[0m \u001b[32m━━━━━━━━━━━━━━━━━━━━\u001b[0m\u001b[37m\u001b[0m \u001b[1m2s\u001b[0m 4ms/step - loss: 0.5214 - root_mean_squared_error: 0.1562 - val_loss: 0.6374 - val_root_mean_squared_error: 0.2687\n",
      "Epoch 14/20\n",
      "\u001b[1m500/500\u001b[0m \u001b[32m━━━━━━━━━━━━━━━━━━━━\u001b[0m\u001b[37m\u001b[0m \u001b[1m2s\u001b[0m 4ms/step - loss: 0.5207 - root_mean_squared_error: 0.1557 - val_loss: 0.6367 - val_root_mean_squared_error: 0.2682\n",
      "Epoch 15/20\n",
      "\u001b[1m500/500\u001b[0m \u001b[32m━━━━━━━━━━━━━━━━━━━━\u001b[0m\u001b[37m\u001b[0m \u001b[1m2s\u001b[0m 4ms/step - loss: 0.5165 - root_mean_squared_error: 0.1518 - val_loss: 0.6357 - val_root_mean_squared_error: 0.2675\n",
      "Epoch 16/20\n",
      "\u001b[1m500/500\u001b[0m \u001b[32m━━━━━━━━━━━━━━━━━━━━\u001b[0m\u001b[37m\u001b[0m \u001b[1m2s\u001b[0m 4ms/step - loss: 0.5159 - root_mean_squared_error: 0.1492 - val_loss: 0.6347 - val_root_mean_squared_error: 0.2667\n",
      "Epoch 17/20\n",
      "\u001b[1m500/500\u001b[0m \u001b[32m━━━━━━━━━━━━━━━━━━━━\u001b[0m\u001b[37m\u001b[0m \u001b[1m2s\u001b[0m 4ms/step - loss: 0.5150 - root_mean_squared_error: 0.1469 - val_loss: 0.6341 - val_root_mean_squared_error: 0.2662\n",
      "Epoch 18/20\n",
      "\u001b[1m500/500\u001b[0m \u001b[32m━━━━━━━━━━━━━━━━━━━━\u001b[0m\u001b[37m\u001b[0m \u001b[1m2s\u001b[0m 4ms/step - loss: 0.5116 - root_mean_squared_error: 0.1415 - val_loss: 0.6326 - val_root_mean_squared_error: 0.2650\n",
      "Epoch 19/20\n",
      "\u001b[1m500/500\u001b[0m \u001b[32m━━━━━━━━━━━━━━━━━━━━\u001b[0m\u001b[37m\u001b[0m \u001b[1m2s\u001b[0m 4ms/step - loss: 0.5132 - root_mean_squared_error: 0.1389 - val_loss: 0.6326 - val_root_mean_squared_error: 0.2650\n",
      "Epoch 20/20\n",
      "\u001b[1m500/500\u001b[0m \u001b[32m━━━━━━━━━━━━━━━━━━━━\u001b[0m\u001b[37m\u001b[0m \u001b[1m2s\u001b[0m 4ms/step - loss: 0.5115 - root_mean_squared_error: 0.1411 - val_loss: 0.6313 - val_root_mean_squared_error: 0.2639\n"
     ]
    }
   ],
   "source": [
    "history = model.fit(x=x_train, y=y_train, batch_size=16, epochs=20, validation_data=(x_val, y_val))"
   ]
  },
  {
   "cell_type": "code",
   "execution_count": 42,
   "id": "0c2255c6",
   "metadata": {},
   "outputs": [],
   "source": [
    "def recommend_books_for_user(user_id, top_n=5):\n",
    "    user_books = df_all[df_all.user_id == user_id]\n",
    "    books_read = user_books['isbn'].values\n",
    "\n",
    "    unread_books = df_all[~df_all['isbn'].isin(books_read)]['isbn'].unique()\n",
    "\n",
    "    unread_books_encoded = [isbn_to_isbn_encoded.get(x) for x in unread_books if x in isbn_to_isbn_encoded]\n",
    "    user_encoded = user_to_user_encoded.get(user_id)\n",
    "\n",
    "    user_book_array = np.hstack(([[user_encoded]] * len(unread_books_encoded), np.array(unread_books_encoded).reshape(-1, 1)))\n",
    "    \n",
    "    ratings = model.predict(user_book_array).flatten()\n",
    "    top_indices = ratings.argsort()[-top_n:][::-1]\n",
    "\n",
    "    top_isbn = [isbn_encoded_to_isbn[i] for i in np.array(unread_books_encoded)[top_indices]]\n",
    "\n",
    "    recommended_books = df_all[df_all['isbn'].isin(top_isbn)][['isbn', 'book_title', 'book_author', 'publisher']].drop_duplicates()\n",
    "\n",
    "    print(f\"\\nTop {top_n} book recommendations for User ID: {user_id}\\n\")\n",
    "    for row in recommended_books.itertuples():\n",
    "        print(f\"{row.book_title} — {row.book_author} ({row.publisher})\")\n"
   ]
  },
  {
   "cell_type": "code",
   "execution_count": 43,
   "id": "8477e0f5",
   "metadata": {},
   "outputs": [
    {
     "name": "stdout",
     "output_type": "stream",
     "text": [
      "\u001b[1m259/259\u001b[0m \u001b[32m━━━━━━━━━━━━━━━━━━━━\u001b[0m\u001b[37m\u001b[0m \u001b[1m0s\u001b[0m 1ms/step  \n",
      "\n",
      "Top 10 book recommendations for User ID: 1234\n",
      "\n",
      "A Wrinkle in Time — Madeleine L'Engle (Laure Leaf)\n",
      "The Unknown Errors of Our Lives: Stories — Chitra Banerjee Divakaruni (Anchor Books/Doubleday)\n",
      "The Secret Life of Bees — Sue Monk Kidd (Penguin Books)\n",
      "The Da Vinci Code — Dan Brown (Doubleday)\n",
      "To Kill a Mockingbird — Harper Lee (Little Brown &amp; Company)\n",
      "Harry Potter and the Goblet of Fire (Book 4) — J. K. Rowling (Scholastic)\n",
      "The Last Juror — John Grisham (Doubleday)\n",
      "Harry Potter and the Prisoner of Azkaban (Book 3) — J. K. Rowling (Scholastic)\n",
      "The Giver (21st Century Reference) — LOIS LOWRY (Laure Leaf)\n",
      "Cold Mountain : A Novel — CHARLES FRAZIER (Vintage)\n"
     ]
    }
   ],
   "source": [
    "recommend_books_for_user(user_id=1234, top_n=10)"
   ]
  },
  {
   "cell_type": "markdown",
   "id": "259ded3d",
   "metadata": {},
   "source": [
    "**Insight**\n",
    "\n",
    "Model Collaborative Filtering yang dibangun menggunakan TensorFlow Keras dan terdiri dari arsitektur embedding untuk pengguna dan item (dalam hal ini buku). Tujuan utamanya adalah mempelajari representasi vektor (embedding) dari pengguna dan item, lalu menghitung skor kesukaan melalui operasi dot product. Berikut adalah kode dari permodelan yag digunakan.\n",
    "\n",
    "Model RecommenderNet yang digunakan terdiri dari beberapa komponen berikut\n",
    "\n",
    "- `Embedding(num_users, embedding_size)`  \n",
    "Mengkonversi ID pengguna menjadi representasi vektor berdimensi embedding_size.\n",
    "\n",
    "- `Embedding(num_items, embedding_size)`  \n",
    "Mengkonversi ID buku menjadi vektor embedding berdimensi sama.\n",
    "\n",
    "- `dot_user_item + user_bias + item_bias`  \n",
    "Skor kesukaan dihitung sebagai hasil dot product vektor pengguna dan buku ditambah bias masing-masing.\n",
    "\n",
    "- `sigmoid`  \n",
    "Fungsi aktivasi sigmoid membatasi output ke rentang 0–1.\n",
    "\n",
    "Setelah model dibangun, langkah selanjutnya adalah melakukan kompilasi dan pelatihan terhadap model dengan data pelatihan. Berikut adalah beberapa parameter yang digunakan dan penjelasan dari parameternya.\n",
    "\n",
    "- `loss='binary_crossentropy'`  \n",
    "Digunakan karena rating telah dinormalisasi ke 0–1 (mirip klasifikasi biner).\n",
    "\n",
    "- `optimizer='adam'`  \n",
    "Optimizer adaptif yang efisien dan umum digunakan.\n",
    "\n",
    "- `metrics=['RootMeanSquaredError']`\n",
    "Digunakan untuk mengukur deviasi prediksi terhadap nilai asli dalam bentuk kuadrat akar.\n",
    "\n",
    "- `train_data, train_ratings`  \n",
    "Data input dan target berupa pasangan user-item dan skor kesukaan.\n",
    "\n",
    "- `batch_size=64`  \n",
    "Jumlah data yang diproses dalam satu iterasi.\n",
    "\n",
    "- `epochs=20`  \n",
    "Jumlah putaran penuh pelatihan terhadap seluruh data.\n",
    "\n",
    "- `validation_data`  \n",
    "Data validasi digunakan untuk memantau generalisasi model.\n",
    "\n",
    "Setelah model selesai dilatih, digunakan fungsi prediksi untuk merekomendasikan buku kepada pengguna berdasarkan skor tertinggi dari buku yang belum pernah dibaca. Dengan melakukan prediksi rekomendasi terhadap user '1234' didapatkan kesimpulan bahwa model ini memberikan rekomendasi berdasarkan kesamaan pola interaksi dengan pengguna lain yang memiliki preferensi serupa, tanpa memerlukan informasi konten eksplisit dari buku atau profil pengguna."
   ]
  },
  {
   "cell_type": "markdown",
   "id": "6cec1951",
   "metadata": {},
   "source": [
    "## **Evaluasi**"
   ]
  },
  {
   "cell_type": "code",
   "execution_count": 45,
   "id": "b22e18bc",
   "metadata": {},
   "outputs": [],
   "source": [
    "def evaluate_recommendation(recommendations, test_book_title, df, top_n=5):\n",
    "    test_author = df[df['book_title'] == test_book_title]['book_author'].values[0]\n",
    "\n",
    "    recommended_authors = recommendations['book_author'].tolist()\n",
    "    relevant_recommended = sum([1 for author in recommended_authors if author == test_author])\n",
    "\n",
    "    total_relevant = len(df[(df['book_author'] == test_author) & (df['book_title'] != test_book_title)])\n",
    "\n",
    "    precision = relevant_recommended / top_n\n",
    "    recall = relevant_recommended / total_relevant if total_relevant > 0 else 0\n",
    "\n",
    "    f1 = 0\n",
    "    if precision + recall > 0:\n",
    "        f1 = 2 * (precision * recall) / (precision + recall)\n",
    "\n",
    "    return precision, recall, f1"
   ]
  },
  {
   "cell_type": "code",
   "execution_count": 46,
   "id": "d35e3259",
   "metadata": {},
   "outputs": [
    {
     "name": "stdout",
     "output_type": "stream",
     "text": [
      "Evaluation for 'Scooby-Doo on Zombie Island (Scooby-Doo)'\n",
      "Precision@5 : 0.2000\n",
      "Recall@5    : 1.0000\n",
      "F1-Score    : 0.3333\n"
     ]
    }
   ],
   "source": [
    "test_book_title = 'Scooby-Doo on Zombie Island (Scooby-Doo)'\n",
    "\n",
    "recs = recommend_books_by_title(test_book_title, top_n=5)\n",
    "\n",
    "precision, recall, f1 = evaluate_recommendation(recs, test_book_title, df_all)\n",
    "\n",
    "print(f\"Evaluation for '{test_book_title}'\")\n",
    "print(f\"Precision@5 : {precision:.4f}\")\n",
    "print(f\"Recall@5    : {recall:.4f}\")\n",
    "print(f\"F1-Score    : {f1:.4f}\")"
   ]
  },
  {
   "cell_type": "code",
   "execution_count": 47,
   "id": "58586b73",
   "metadata": {},
   "outputs": [
    {
     "data": {
      "image/png": "[encoded data removed]",
      "text/plain": [
       "<Figure size 640x480 with 1 Axes>"
      ]
     },
     "metadata": {},
     "output_type": "display_data"
    }
   ],
   "source": [
    "plt.plot(history.history['root_mean_squared_error'])\n",
    "plt.plot(history.history['val_root_mean_squared_error'])\n",
    "plt.title('model_metrics')\n",
    "plt.ylabel('root_mean_squared_error')\n",
    "plt.xlabel('epoch')\n",
    "plt.legend(['train', 'test'], loc='upper left')\n",
    "plt.show()"
   ]
  },
  {
   "cell_type": "code",
   "execution_count": 48,
   "id": "7535a96a",
   "metadata": {},
   "outputs": [
    {
     "name": "stdout",
     "output_type": "stream",
     "text": [
      "\u001b[1m63/63\u001b[0m \u001b[32m━━━━━━━━━━━━━━━━━━━━\u001b[0m\u001b[37m\u001b[0m \u001b[1m0s\u001b[0m 1ms/step - loss: 0.6257 - root_mean_squared_error: 0.2658  \n",
      "RMSE on validation data: 0.2615\n"
     ]
    }
   ],
   "source": [
    "# Evaluasi model pada data validasi\n",
    "results = model.evaluate(x_val, y_val, verbose=1)\n",
    "\n",
    "# Tampilkan hasil RMSE\n",
    "print(f\"RMSE on validation data: {results[1]:.4f}\")"
   ]
  },
  {
   "cell_type": "markdown",
   "id": "8d336dfc",
   "metadata": {},
   "source": [
    "**Insight**\n",
    "\n",
    "Berdasarkan evaluasi terhadap model Content-Based Filtering didapatkan evaluasi sebagai berikut.\n",
    "\n",
    "- **Precision@5 = 0.2000**  \n",
    "  Dari 5 buku yang direkomendasikan, hanya 1 yang benar-benar relevan. Ini menunjukkan masih banyak rekomendasi yang tidak relevan.\n",
    "\n",
    "- **Recall@5 = 1.0000**  \n",
    "  Semua item yang dianggap relevan berhasil ditemukan dalam 5 rekomendasi. Ini menandakan sistem tidak melewatkan item relevan.\n",
    "\n",
    "- **F1-Score = 0.3333**  \n",
    "  Nilai F1 yang rendah menunjukkan bahwa meskipun recall tinggi, precision yang rendah menurunkan efektivitas keseluruhan sistem.\n",
    "\n",
    "Berdasarkan evaluasi yang telah dilakukan, dapat disimpulkan bahwa Content-based model mampu menemukan semua item relevan, tapi perlu peningkatan pada kualitas ranking untuk meminimalkan rekomendasi yang tidak relevan.\n",
    "\n",
    "Sedangkan untuk evaluasi Collaborative Filtering, berdasarkan grafik evaluasi tersebut dapat diambil beberapa informasi sebagai berikut.\n",
    "- RMSE Training menurun secara signifikan hingga stabil yang berarti model mampu belajar pola dari data.\n",
    "- RMSE Testing menurun perlahan dan stabil, tetapi tidak sebaik training yang mengindikasikan adanya *gap* kecil antara performa training dan testing (kemungkinan overfitting ringan).\n",
    "- Tidak ada kenaikan tajam yang berarti tidak ada gejala underfitting atau overfitting parah.\n",
    "\n",
    "Dari evaluasi yang telah dilakukan, dapat disimpulkan bahwa model Collaborative Filtering menunjukkan kinerja yang cukup baik dan stabil pada data test. Berdasarkan pengujian menggunakan data validasi, diperoleh nilai RMSE sebesar 0.2615, yang menunjukkan tingkat galat prediksi yang cukup rendah. Untuk meningkatkan performa lebih lanjut, dapat dipertimbangkan penggunaan regularisasi, model matrix factorization lainnya seperti SVD++ atau ALS, maupun pendekatan hybrid dengan content-based filtering.\n"
   ]
  }
 ],
 "metadata": {
  "kernelspec": {
   "display_name": "base",
   "language": "python",
   "name": "python3"
  },
  "language_info": {
   "codemirror_mode": {
    "name": "ipython",
    "version": 3
   },
   "file_extension": ".py",
   "mimetype": "text/x-python",
   "name": "python",
   "nbconvert_exporter": "python",
   "pygments_lexer": "ipython3",
   "version": "3.12.7"
  }
 },
 "nbformat": 4,
 "nbformat_minor": 5
}
